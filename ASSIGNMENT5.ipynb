{
 "cells": [
  {
   "cell_type": "markdown",
   "id": "dccf7006",
   "metadata": {},
   "source": [
    "## Challenge 1: Square Numbers and Return Their Sum\n"
   ]
  },
  {
   "cell_type": "markdown",
   "id": "4cc09b3a",
   "metadata": {},
   "source": [
    " In this challenge, you need to implement a method that squares passing variables and returns their sum.\n",
    "\n",
    "Problem statement: Implement a class Point that has three properties and a method. All these attributes (properties and methods) should be public. This problem can be broken down into two tasks:\n",
    "\n",
    "Task 1: Implement a constructor to initialize the values of three properties: x, y, and z.\n",
    "\n",
    "Task 2: Implement a method, sqSum(), in the Point class which squares x, y, and z and returns their sum.\n",
    "\n",
    "Sample properties 1, 3, 5\n",
    "\n",
    "Sample method output 35"
   ]
  },
  {
   "cell_type": "code",
   "execution_count": 19,
   "id": "3a76c89e",
   "metadata": {},
   "outputs": [
    {
     "name": "stdout",
     "output_type": "stream",
     "text": [
      "14\n"
     ]
    }
   ],
   "source": [
    "class Point:\n",
    "    def __init__(self,x,y,z):\n",
    "        self.x = x\n",
    "        self.y = y\n",
    "        self.z = z\n",
    "    def sqSum(self):\n",
    "        add = self.x**2 + self.y**2 + self.z**2\n",
    "        print(add)\n",
    "a = Point(1,2,3)\n",
    "a.sqSum()"
   ]
  },
  {
   "cell_type": "markdown",
   "id": "0da5ea9c",
   "metadata": {},
   "source": [
    "## Challenge 2: Implement a Calculator Class\n"
   ]
  },
  {
   "cell_type": "markdown",
   "id": "6d3a7f23",
   "metadata": {},
   "source": [
    "In this exercise, you have to implement a calculator that can perform addition, subtraction, multiplication, and division.\n",
    "\n",
    "Problem statement Write a Python class called Calculator by completing the tasks below:\n",
    "\n",
    "Task 1\n",
    "\n",
    "Initializer\n",
    "\n",
    "Implement an initializer to initialize the values of num1 and num2. Properties\n",
    "\n",
    "• num1\n",
    "• num2\n",
    "Task 2\n",
    "\n",
    "Methods\n",
    "\n",
    "• add() is a method that returns the sum of num1 and num2.\n",
    "• subtract() is a method that returns the subtraction of num1 from num2.\n",
    "• multiply() is a method that returns the product of num1 and num2.\n",
    "• divide() is a method that returns the division of num2 by num1.\n",
    "Input - Pass numbers (integers or floats) in the initializer.\n",
    "\n",
    "Output - addition, subtraction, division, and multiplication\n",
    "\n",
    "Sample input\n",
    "\n",
    "obj = Calculator(10, 94)\n",
    "obj.add()\n",
    "obj.subtract()\n",
    "obj.multiply()\n",
    "obj.divide()\n",
    "Sample output\n",
    "\n",
    "104\n",
    "84\n",
    "940\n",
    "9.4"
   ]
  },
  {
   "cell_type": "code",
   "execution_count": 10,
   "id": "9e80ff8c",
   "metadata": {},
   "outputs": [
    {
     "name": "stdout",
     "output_type": "stream",
     "text": [
      "25\n",
      "15\n",
      "100\n",
      "4.0\n"
     ]
    }
   ],
   "source": [
    "class Calculator:\n",
    "    def __init__(self,num1,num2):\n",
    "        self.num1 = num1\n",
    "        self.num2 = num2\n",
    "    def add(self):\n",
    "        print(self.num1 + self.num2)\n",
    "    def subtract(self):\n",
    "        print(self.num2 - self.num1) \n",
    "    def multiply(self):\n",
    "        print(self.num1 * self.num2) \n",
    "    def division(self):\n",
    "        if self.num1!=0:\n",
    "            print(self.num2 / self.num1)\n",
    "        else:\n",
    "            print(f'{self.num1} cannot be zero')\n",
    "obj = Calculator(5,20)\n",
    "obj.add()\n",
    "obj.subtract()\n",
    "obj.multiply()\n",
    "obj.division()"
   ]
  },
  {
   "cell_type": "markdown",
   "id": "427046aa",
   "metadata": {},
   "source": [
    "## Challenge 3: Implement the Complete Student Class\n"
   ]
  },
  {
   "cell_type": "markdown",
   "id": "6b33281b",
   "metadata": {},
   "source": [
    "In this challenge, you will implement a student class\n",
    "Problem statement\n",
    "\n",
    "Implement the complete Student class by completing the tasks below\n",
    "\n",
    "Task\n",
    "\n",
    "Implement the following properties as private:\n",
    "\n",
    "• name\n",
    "• rollNumber\n",
    "Include the following methods to get and set the private properties above:\n",
    "\n",
    "• getName()\n",
    "• setName()\n",
    "• getRollNumber()\n",
    "• setRollNumber()\n",
    "Implement this class according to the rules of encapsulation.\n",
    "\n",
    "Input - Checking all the properties and methods\n",
    "\n",
    "Output - Expecting perfectly defined fields and getter/setters"
   ]
  },
  {
   "cell_type": "code",
   "execution_count": 32,
   "id": "8fa6196e",
   "metadata": {},
   "outputs": [],
   "source": [
    "class Student:\n",
    "    def __init__(self, name, rollNumber):\n",
    "        self.__name = name\n",
    "        self.__rollNumber = rollNumber\n",
    "        \n",
    "    def getName(self):\n",
    "        return self.__name\n",
    "    \n",
    "    def setName(self, name):\n",
    "        self.__name = name\n",
    "        \n",
    "    def getRollNumber(self):\n",
    "        return self.__rollNumber\n",
    "    \n",
    "    def setRollNumber(self, rollNumber):\n",
    "        self.__rollNumber = rollNumber\n"
   ]
  },
  {
   "cell_type": "code",
   "execution_count": 33,
   "id": "ce0e0e69",
   "metadata": {},
   "outputs": [
    {
     "name": "stdout",
     "output_type": "stream",
     "text": [
      "Name: Jyoo Roll Number: 152201\n",
      "New name: Nagendra New roll number: 174401\n"
     ]
    }
   ],
   "source": [
    "student = Student(\"Jyoo\", 152201)\n",
    "\n",
    "name = student.getName()\n",
    "rollNumber = student.getRollNumber()\n",
    "print(\"Name:\", name, \"Roll Number:\", rollNumber)\n",
    "\n",
    "student.setName(\"Nagendra\")\n",
    "student.setRollNumber(174401)\n",
    "print(\"New name:\", student.getName(), \"New roll number:\", student.getRollNumber())"
   ]
  },
  {
   "cell_type": "markdown",
   "id": "094a34f9",
   "metadata": {},
   "source": [
    "## Challenge 4: Implement a Banking Account"
   ]
  },
  {
   "cell_type": "markdown",
   "id": "01c7a9a0",
   "metadata": {},
   "source": [
    "In this challenge, you will implement a banking account using the concepts of inheritance.\n",
    "Problem statement\n",
    "\n",
    "Implement the basic structure of a parent class, Account, and a child class, SavingsAccount.\n",
    "\n",
    "Task 1\n",
    "\n",
    "Implement properties as instance variables, and set them to None or 0.\n",
    "\n",
    "Account has the following properties:\n",
    "\n",
    "    • title\n",
    "    • Balance\n",
    "SavingsAccount has the following properties:\n",
    "\n",
    "    • interestRate\n",
    "Task 2\n",
    "\n",
    "Create an initializer for Account class. The order of parameters should be the following, where Ashish is the title, and 5000 is the account balance:\n",
    "\n",
    "Account(\"Ashish\", 5000)\n",
    "\n",
    "Task 3\n",
    "\n",
    "Implement properties as instance variables, and set them to None or 0.\n",
    "\n",
    "Create an initializer for the SavingsAccount class using the initializer of the Account class in the order below:\n",
    "\n",
    "Account(\"Ashish\", 5000, 5)\n",
    "\n",
    "Here, Ashish is the title and 5000 is the balance and 5 is the interestRate.\n",
    "\n"
   ]
  },
  {
   "cell_type": "code",
   "execution_count": 34,
   "id": "fc4207e9",
   "metadata": {},
   "outputs": [],
   "source": [
    "class Account:\n",
    "    def __init__(self, title, balance=0):\n",
    "        self.title = title\n",
    "        self.balance = balance\n",
    "\n",
    "class SavingsAccount(Account):\n",
    "    def __init__(self, title, balance=0, interestRate=0):\n",
    "        super().__init__(title, balance)\n",
    "        self.interestRate = interestRate\n",
    "\n",
    "account = Account(\"Ashish\", 5000)\n",
    "savings_account = SavingsAccount(\"Ashish\", 5000, 5)"
   ]
  },
  {
   "cell_type": "markdown",
   "id": "5ce4c617",
   "metadata": {},
   "source": [
    "## Challenge 5: Handling a Bank Account"
   ]
  },
  {
   "cell_type": "markdown",
   "id": "7c11659e",
   "metadata": {},
   "source": [
    "In this challenge, you will define methods for handling a bank account using concepts of inheritance.\n",
    "\n",
    "Problem statement\n",
    "\n",
    "In this challenge, we will be extending the previous challenge and implementing methods in the parent class and its corresponding child class.\n",
    "\n",
    "The initializers for both classes have been defined for you.\n",
    "\n",
    "Task 1\n",
    "\n",
    "In the Account class, implement the getBalance() method that returns balance.\n",
    "\n",
    "Task 2\n",
    "\n",
    "In the Account class, implement the deposit(amount) method that adds amount to the balance.\n",
    "\n",
    "It does not return anything.\n",
    "\n",
    "Sample input\n",
    "\n",
    "balance = 2000\n",
    "deposit(500)\n",
    "getbalance()\n",
    "Sample output\n",
    "\n",
    "2500\n",
    "Task 3\n",
    "\n",
    "In the Account class, implement the withdrawal(amount) method that subtracts the amount from the balance.\n",
    "\n",
    "It does not return anything.\n",
    "\n",
    "Sample input\n",
    "\n",
    "balance = 2000\n",
    "withdrawal(500)\n",
    "getbalance()\n",
    "Sample output\n",
    "\n",
    "1500\n",
    "Task 4\n",
    "\n",
    "In the SavingsAccount class, implement an interestAmount() method that returns the interest amount of the current balance.\n",
    "\n",
    "Simple interest = (balance * interest)/100\n",
    "\n",
    "Sample input\n",
    "\n",
    "balance = 2000\n",
    "interestRate = 5\n",
    "interestAmount()\n",
    "Sample output\n",
    "\n",
    "100"
   ]
  },
  {
   "cell_type": "code",
   "execution_count": 35,
   "id": "25ccffcf",
   "metadata": {},
   "outputs": [],
   "source": [
    "class Account:\n",
    "    def __init__(self, title, balance):\n",
    "        self.title = title\n",
    "        self.balance = balance\n",
    "        \n",
    "    def getBalance(self):\n",
    "        return self.balance\n",
    "        \n",
    "    def deposit(self, amount):\n",
    "        self.balance += amount\n",
    "        \n",
    "    def withdrawal(self, amount):\n",
    "        self.balance -= amount\n",
    "        \n",
    "class SavingsAccount(Account):\n",
    "    def __init__(self, title, balance, interestRate):\n",
    "        super().__init__(title, balance)\n",
    "        self.interestRate = interestRate / 100\n",
    "        \n",
    "    def interestAmount(self):\n",
    "        return self.balance * self.interestRate\n"
   ]
  },
  {
   "cell_type": "code",
   "execution_count": 36,
   "id": "0fd67519",
   "metadata": {},
   "outputs": [
    {
     "name": "stdout",
     "output_type": "stream",
     "text": [
      "2000\n",
      "2500\n",
      "2000\n",
      "100.0\n"
     ]
    }
   ],
   "source": [
    "savings_acc = SavingsAccount(\"Ashish\", 2000, 5)\n",
    "\n",
    "print(savings_acc.getBalance()) \n",
    "savings_acc.deposit(500)\n",
    "print(savings_acc.getBalance()) \n",
    "savings_acc.withdrawal(500)\n",
    "print(savings_acc.getBalance()) \n",
    "print(savings_acc.interestAmount()) \n"
   ]
  },
  {
   "cell_type": "code",
   "execution_count": null,
   "id": "8b08a029",
   "metadata": {},
   "outputs": [],
   "source": []
  }
 ],
 "metadata": {
  "kernelspec": {
   "display_name": "Python 3 (ipykernel)",
   "language": "python",
   "name": "python3"
  },
  "language_info": {
   "codemirror_mode": {
    "name": "ipython",
    "version": 3
   },
   "file_extension": ".py",
   "mimetype": "text/x-python",
   "name": "python",
   "nbconvert_exporter": "python",
   "pygments_lexer": "ipython3",
   "version": "3.9.13"
  }
 },
 "nbformat": 4,
 "nbformat_minor": 5
}
