{
 "cells": [
  {
   "cell_type": "markdown",
   "id": "1a9c50f0",
   "metadata": {},
   "source": [
    "### 1)  Map and Lambda Function\n",
    "\n"
   ]
  },
  {
   "cell_type": "code",
   "execution_count": 1,
   "id": "088ef2b1",
   "metadata": {},
   "outputs": [
    {
     "name": "stdout",
     "output_type": "stream",
     "text": [
      "5\n",
      "[0, 1, 1, 8, 27]\n"
     ]
    }
   ],
   "source": [
    "cube = lambda x: x**3 \n",
    "\n",
    "def fibonacci(n):\n",
    "    list1 = []\n",
    "    for i in range(n):\n",
    "        if i == 0:\n",
    "            list1.append(0)\n",
    "        elif i == 1:\n",
    "            list1.append(1)\n",
    "        else:\n",
    "            list1.append(list1[i-2]+list1[i-1])\n",
    "    return list1\n",
    "\n",
    "\n",
    "if __name__ == '__main__':\n",
    "    n = int(input())\n",
    "    print(list(map(cube, fibonacci(n))))"
   ]
  },
  {
   "cell_type": "markdown",
   "id": "1e27a91c",
   "metadata": {},
   "source": [
    "### 2) List Comprehensions\n",
    "\n"
   ]
  },
  {
   "cell_type": "code",
   "execution_count": 3,
   "id": "12304521",
   "metadata": {},
   "outputs": [
    {
     "name": "stdout",
     "output_type": "stream",
     "text": [
      "1\n",
      "1\n",
      "1\n",
      "2\n",
      "[[0, 0, 0], [0, 0, 1], [0, 1, 0], [1, 0, 0], [1, 1, 1]]\n"
     ]
    }
   ],
   "source": [
    "if __name__ == '__main__':\n",
    "    x = int(input())\n",
    "    y = int(input())\n",
    "    z = int(input())\n",
    "    n = int(input())\n",
    "    print([[i,j,k] for i in range(x+1) for j in range(y+1) for k in range(z+1) if (i+j+k)!=n ])"
   ]
  },
  {
   "cell_type": "markdown",
   "id": "e25b455d",
   "metadata": {},
   "source": [
    "### 3) Matching Specific String\n",
    "\n"
   ]
  },
  {
   "cell_type": "code",
   "execution_count": 1,
   "id": "c4fae6a8",
   "metadata": {},
   "outputs": [
    {
     "name": "stdout",
     "output_type": "stream",
     "text": [
      "The hackerrank team is on a mission to flatten the world by restructuring the DNA of every company on the planet. We rank programmers based on their coding skills, helping companies source great programmers and reduce the time to hire. As a result, we are revolutionizing the way companies discover and evaluate talented engineers. The hackerrank platform is the destination for the best engineers to hone their skills and companies to find top engineers.\n",
      "Number of matches : 2\n"
     ]
    }
   ],
   "source": [
    "Regex_Pattern = r'hackerrank'\t# Do not delete 'r'.\n",
    "\n",
    "import re\n",
    "\n",
    "Test_String = input()\n",
    "\n",
    "match = re.findall(Regex_Pattern, Test_String)\n",
    "\n",
    "print(\"Number of matches :\", len(match))"
   ]
  },
  {
   "cell_type": "markdown",
   "id": "b56e0abe",
   "metadata": {},
   "source": [
    "### 4) Matching Digits & Non-Digit Characters\n",
    "\n"
   ]
  },
  {
   "cell_type": "code",
   "execution_count": 2,
   "id": "c34e0f20",
   "metadata": {
    "scrolled": true
   },
   "outputs": [
    {
     "name": "stdout",
     "output_type": "stream",
     "text": [
      "06-11-2015\n",
      "true\n"
     ]
    }
   ],
   "source": [
    "Regex_Pattern = r\"\\d{2}\\D\\d{2}\\D\\d{4}\"\t# Do not delete 'r'.\n",
    "\n",
    "import re\n",
    "\n",
    "print(str(bool(re.search(Regex_Pattern, input()))).lower())"
   ]
  },
  {
   "cell_type": "markdown",
   "id": "d3fc0941",
   "metadata": {},
   "source": [
    "### 5) Matching Specific Characters\n",
    "\n"
   ]
  },
  {
   "cell_type": "code",
   "execution_count": 3,
   "id": "56b61e10",
   "metadata": {},
   "outputs": [
    {
     "name": "stdout",
     "output_type": "stream",
     "text": [
      "1203x.\n",
      "true\n"
     ]
    }
   ],
   "source": [
    "Regex_Pattern = r'^[1|2|3][1|2|0][x|s|0][3|0|A|a][x|s|u][.|,]$'\t# Do not delete 'r'.\n",
    "\n",
    "import re\n",
    "\n",
    "print(str(bool(re.search(Regex_Pattern, input()))).lower())"
   ]
  },
  {
   "cell_type": "markdown",
   "id": "1b7d0da9",
   "metadata": {},
   "source": [
    "### 6) Matching Character Ranges\n",
    "\n"
   ]
  },
  {
   "cell_type": "code",
   "execution_count": 4,
   "id": "0370a71c",
   "metadata": {},
   "outputs": [
    {
     "name": "stdout",
     "output_type": "stream",
     "text": [
      "h4CkR\n",
      "true\n"
     ]
    }
   ],
   "source": [
    "Regex_Pattern = r'^[a-z][1-9][^a-z][^A-Z][A-Z]'\t# Do not delete 'r'.\n",
    "\n",
    "import re\n",
    "\n",
    "print(str(bool(re.search(Regex_Pattern, input()))).lower())"
   ]
  },
  {
   "cell_type": "markdown",
   "id": "73a4e937",
   "metadata": {},
   "source": [
    "### 7) Matching Start & End"
   ]
  },
  {
   "cell_type": "code",
   "execution_count": 5,
   "id": "868f4923",
   "metadata": {},
   "outputs": [
    {
     "name": "stdout",
     "output_type": "stream",
     "text": [
      "0qwer.\n",
      "true\n"
     ]
    }
   ],
   "source": [
    "Regex_Pattern = r\"^\\d\\w{4}\\W$\"\t# Do not delete 'r'.\n",
    "\n",
    "import re\n",
    "\n",
    "print(str(bool(re.search(Regex_Pattern, input()))).lower())"
   ]
  },
  {
   "cell_type": "code",
   "execution_count": null,
   "id": "26c3338e",
   "metadata": {},
   "outputs": [],
   "source": []
  }
 ],
 "metadata": {
  "kernelspec": {
   "display_name": "Python 3 (ipykernel)",
   "language": "python",
   "name": "python3"
  },
  "language_info": {
   "codemirror_mode": {
    "name": "ipython",
    "version": 3
   },
   "file_extension": ".py",
   "mimetype": "text/x-python",
   "name": "python",
   "nbconvert_exporter": "python",
   "pygments_lexer": "ipython3",
   "version": "3.9.13"
  }
 },
 "nbformat": 4,
 "nbformat_minor": 5
}
