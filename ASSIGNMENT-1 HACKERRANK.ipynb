{
 "cells": [
  {
   "cell_type": "markdown",
   "id": "623478cc",
   "metadata": {},
   "source": [
    "### 1) Finding the percentage\n",
    "\n"
   ]
  },
  {
   "cell_type": "code",
   "execution_count": 3,
   "id": "ab178e22",
   "metadata": {},
   "outputs": [
    {
     "name": "stdout",
     "output_type": "stream",
     "text": [
      "3\n",
      "Krishna 67 68 69\n",
      "Arjun 70 98 63\n",
      "Mallika 52 56 60\n",
      "Mallika\n",
      "56.00\n"
     ]
    }
   ],
   "source": [
    "if __name__ == '__main__':\n",
    "    n = int(input())\n",
    "    student_marks = {}\n",
    "    for _ in range(n):\n",
    "        name, *line = input().split()\n",
    "        scores = list(map(float, line))\n",
    "        student_marks[name] = scores\n",
    "    query_name = input()\n",
    "    \n",
    "    agg = sum([grade for grade in student_marks[query_name]])\n",
    "\n",
    "    print('%.2f' %(agg/len(student_marks[query_name])))\n"
   ]
  },
  {
   "cell_type": "markdown",
   "id": "f4792fa8",
   "metadata": {},
   "source": [
    "### 2) String Split and Join "
   ]
  },
  {
   "cell_type": "code",
   "execution_count": 5,
   "id": "af67a4ec",
   "metadata": {},
   "outputs": [
    {
     "name": "stdout",
     "output_type": "stream",
     "text": [
      "Data science is an awesome course\n",
      "Data-science-is-an-awesome-course\n"
     ]
    }
   ],
   "source": [
    "def split_and_join(line):\n",
    "    # write your code here\n",
    "    return \"-\".join(line.split(\" \"))\n",
    "    \n",
    "\n",
    "if __name__ == '__main__':\n",
    "    line = input()\n",
    "    result = split_and_join(line)\n",
    "    print(result)"
   ]
  },
  {
   "cell_type": "markdown",
   "id": "75f0274d",
   "metadata": {},
   "source": [
    "### 3) Set .intersection() Operation"
   ]
  },
  {
   "cell_type": "code",
   "execution_count": 6,
   "id": "797113f1",
   "metadata": {},
   "outputs": [
    {
     "name": "stdout",
     "output_type": "stream",
     "text": [
      "9\n",
      "1 2 3 4 5 6 7 8 9\n",
      "9\n",
      "10 1 2 3 11 21 55 6 8\n",
      "5\n"
     ]
    }
   ],
   "source": [
    "n1 = int(input())\n",
    "set_A = {int(i) for i in input().split()}\n",
    "n2 = int(input())\n",
    "set_B = {int(i) for i in input().split()}\n",
    "print(len(set_A & set_B))"
   ]
  },
  {
   "cell_type": "markdown",
   "id": "0b134227",
   "metadata": {},
   "source": [
    "### 4) Find the Runner-Up Score!\n",
    "\n"
   ]
  },
  {
   "cell_type": "code",
   "execution_count": 7,
   "id": "c6af10bc",
   "metadata": {},
   "outputs": [
    {
     "name": "stdout",
     "output_type": "stream",
     "text": [
      "5\n",
      "2 3 6 6 5\n",
      "5\n"
     ]
    }
   ],
   "source": [
    "if __name__ == '__main__':\n",
    "    n = int(input())\n",
    "    arr = map(int, input().split())\n",
    "    print(sorted(set(arr))[-2])"
   ]
  },
  {
   "cell_type": "markdown",
   "id": "000c3271",
   "metadata": {},
   "source": [
    "### 5) sWAP cASE "
   ]
  },
  {
   "cell_type": "code",
   "execution_count": 8,
   "id": "82b1fbfd",
   "metadata": {},
   "outputs": [
    {
     "name": "stdout",
     "output_type": "stream",
     "text": [
      "HackerRank.com presents \"Pythonist 2\".\n",
      "hACKERrANK.COM PRESENTS \"pYTHONIST 2\".\n"
     ]
    }
   ],
   "source": [
    "def swap_case(s):\n",
    "    return s.swapcase()\n",
    "\n",
    "if __name__ == '__main__':\n",
    "    s = input()\n",
    "    result = swap_case(s)\n",
    "    print(result)"
   ]
  },
  {
   "cell_type": "markdown",
   "id": "f4650bef",
   "metadata": {},
   "source": [
    "### 6) Arithmetic Operators\n",
    "\n"
   ]
  },
  {
   "cell_type": "code",
   "execution_count": 9,
   "id": "cdc2097c",
   "metadata": {},
   "outputs": [
    {
     "name": "stdout",
     "output_type": "stream",
     "text": [
      "3\n",
      "2\n",
      "5\n",
      "1\n",
      "6\n"
     ]
    }
   ],
   "source": [
    "if __name__ == '__main__':\n",
    "    a = int(input())\n",
    "    b = int(input())\n",
    "    print(a+b)\n",
    "    print(a-b)\n",
    "    print(a*b)"
   ]
  },
  {
   "cell_type": "markdown",
   "id": "f5abf743",
   "metadata": {},
   "source": [
    "### 7) Python: Division\n",
    "\n"
   ]
  },
  {
   "cell_type": "code",
   "execution_count": 10,
   "id": "b6e73392",
   "metadata": {},
   "outputs": [
    {
     "name": "stdout",
     "output_type": "stream",
     "text": [
      "4\n",
      "3\n",
      "1\n",
      "1.3333333333333333\n"
     ]
    }
   ],
   "source": [
    "if __name__ == '__main__':\n",
    "    a = int(input())\n",
    "    b = int(input())\n",
    "    print(a//b)\n",
    "    print(a/b)"
   ]
  },
  {
   "cell_type": "markdown",
   "id": "2415452e",
   "metadata": {},
   "source": [
    "## 8)Python If-Else\n",
    "\n"
   ]
  },
  {
   "cell_type": "code",
   "execution_count": 12,
   "id": "acf1b8b9",
   "metadata": {},
   "outputs": [
    {
     "name": "stdout",
     "output_type": "stream",
     "text": [
      "24\n",
      "Not Weird\n"
     ]
    }
   ],
   "source": [
    "#!/bin/python3\n",
    "\n",
    "import math\n",
    "import os\n",
    "import random\n",
    "import re\n",
    "import sys\n",
    "\n",
    "\n",
    "\n",
    "if __name__ == '__main__':\n",
    "    n = int(input().strip())\n",
    "    if n%2 == 0:\n",
    "    # If n is even and in the inclusive range of 2 to 5 \n",
    "        if n in range(2,6):\n",
    "            print(\"Not Weird\")\n",
    "        # If n is even and in the inclusive range of 6 to 20\n",
    "        elif n in range(6,21):\n",
    "            print(\"Weird\")\n",
    "        # If n is even and greater than 20\n",
    "        elif n > 20:\n",
    "            print(\"Not Weird\")\n",
    "# If n is odd\n",
    "    else:\n",
    "        print(\"Weird\")\n",
    "\n"
   ]
  },
  {
   "cell_type": "markdown",
   "id": "3a09162c",
   "metadata": {},
   "source": [
    "## 9) Nested Lists\n",
    "\n"
   ]
  },
  {
   "cell_type": "code",
   "execution_count": 13,
   "id": "a91dbcfa",
   "metadata": {},
   "outputs": [
    {
     "name": "stdout",
     "output_type": "stream",
     "text": [
      "5\n",
      "Harry\n",
      "37.21\n",
      "Berry\n",
      "37.21\n",
      "Tina\n",
      "37.2\n",
      "Akriti\n",
      "41\n",
      "Harsh\n",
      "39\n",
      "Berry\n",
      "Harry\n"
     ]
    }
   ],
   "source": [
    "if __name__ == '__main__':\n",
    "    d = {}\n",
    "    m = []\n",
    "    for _ in range(int(input())):\n",
    "        name = input()\n",
    "        score = float(input())\n",
    "        m.append(score)\n",
    "        d[name]=score\n",
    "    k = sorted(set(m))\n",
    "    g = k[1]\n",
    "    for key, value in sorted(d.items()):\n",
    "        if value == g:\n",
    "            print(key)\n",
    "    "
   ]
  },
  {
   "cell_type": "markdown",
   "id": "3d4ba4ed",
   "metadata": {},
   "source": [
    "### 10) Loops"
   ]
  },
  {
   "cell_type": "code",
   "execution_count": 14,
   "id": "01dd78cd",
   "metadata": {},
   "outputs": [
    {
     "name": "stdout",
     "output_type": "stream",
     "text": [
      "5\n",
      "0\n",
      "1\n",
      "4\n",
      "9\n",
      "16\n"
     ]
    }
   ],
   "source": [
    "if __name__ == '__main__':\n",
    "    n = int(input())\n",
    "    for i in range(n):\n",
    "        print(i*i)\n",
    "    "
   ]
  },
  {
   "cell_type": "markdown",
   "id": "0159eddc",
   "metadata": {},
   "source": [
    "### 11) Leap year"
   ]
  },
  {
   "cell_type": "code",
   "execution_count": 15,
   "id": "76268ae5",
   "metadata": {},
   "outputs": [
    {
     "name": "stdout",
     "output_type": "stream",
     "text": [
      "1994\n",
      "False\n"
     ]
    }
   ],
   "source": [
    "def is_leap(year):\n",
    "    leap = False\n",
    "\n",
    "    if year % 4 == 0:\n",
    "        if year % 100 ==0:\n",
    "            if year % 400 ==0:\n",
    "                leap = True\n",
    "                return leap\n",
    "            else:\n",
    "                leap = False\n",
    "                return leap\n",
    "        else:\n",
    "            leap = True\n",
    "            return leap\n",
    "    else:\n",
    "        leap = False\n",
    "\n",
    "    return leap\n",
    "\n",
    "year = int(input())\n",
    "print(is_leap(year))"
   ]
  },
  {
   "cell_type": "markdown",
   "id": "062e507e",
   "metadata": {},
   "source": [
    "### 12) Find a string"
   ]
  },
  {
   "cell_type": "code",
   "execution_count": 16,
   "id": "42b0cbdb",
   "metadata": {},
   "outputs": [
    {
     "name": "stdout",
     "output_type": "stream",
     "text": [
      "ABCDCDC\n",
      "CDC\n",
      "2\n"
     ]
    }
   ],
   "source": [
    "def count_substring(string, sub_string):\n",
    "    n = 0\n",
    "    for i in range(len(string)):\n",
    "        if string[i: i+len(sub_string)] == sub_string:\n",
    "            n+= 1\n",
    "    return n\n",
    "\n",
    "\n",
    "if __name__ == '__main__':\n",
    "    string = input().strip()\n",
    "    sub_string = input().strip()\n",
    "    \n",
    "    count = count_substring(string, sub_string)\n",
    "    print(count)"
   ]
  },
  {
   "cell_type": "markdown",
   "id": "02d33c3d",
   "metadata": {},
   "source": [
    "### 13) Lists\n",
    "\n"
   ]
  },
  {
   "cell_type": "code",
   "execution_count": 17,
   "id": "fc393969",
   "metadata": {},
   "outputs": [
    {
     "name": "stdout",
     "output_type": "stream",
     "text": [
      "12\n",
      "insert 0 5\n",
      "insert 1 10\n",
      "insert 0 6\n",
      "print\n",
      "[6, 5, 10]\n",
      "remove 6\n",
      "append 1\n",
      "sort\n",
      "print\n",
      "[1, 5, 10]\n",
      "pop\n",
      "reverse\n",
      "print\n",
      "[5, 1]\n",
      "\n"
     ]
    }
   ],
   "source": [
    "if __name__ == '__main__':\n",
    "    N = int(input())\n",
    "    l = []\n",
    "    for _ in range(N):\n",
    "        inp = input().split()\n",
    "        if 'insert' in inp:\n",
    "            l.insert(int(inp[1]), int(inp[2]))\n",
    "        elif 'print' in inp:\n",
    "            print(l)\n",
    "        elif 'remove' in inp:\n",
    "            l.remove(int(inp[1]))\n",
    "        elif 'append' in inp:\n",
    "            l.append(int(inp[1]))\n",
    "        elif 'sort' in inp:\n",
    "            l.sort()\n",
    "        elif 'pop' in inp:\n",
    "            l.pop()\n",
    "        elif 'reverse' in inp:\n",
    "            l.reverse()"
   ]
  },
  {
   "cell_type": "code",
   "execution_count": null,
   "id": "1e2d8626",
   "metadata": {},
   "outputs": [],
   "source": []
  }
 ],
 "metadata": {
  "kernelspec": {
   "display_name": "Python 3 (ipykernel)",
   "language": "python",
   "name": "python3"
  },
  "language_info": {
   "codemirror_mode": {
    "name": "ipython",
    "version": 3
   },
   "file_extension": ".py",
   "mimetype": "text/x-python",
   "name": "python",
   "nbconvert_exporter": "python",
   "pygments_lexer": "ipython3",
   "version": "3.9.13"
  }
 },
 "nbformat": 4,
 "nbformat_minor": 5
}
