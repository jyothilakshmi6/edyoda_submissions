{
 "cells": [
  {
   "cell_type": "markdown",
   "id": "013de6f0",
   "metadata": {},
   "source": [
    "### 1) Implement Binary Search."
   ]
  },
  {
   "cell_type": "code",
   "execution_count": 3,
   "id": "0a96dd78",
   "metadata": {},
   "outputs": [
    {
     "name": "stdout",
     "output_type": "stream",
     "text": [
      "Enter a sorted list of integers: 1 2 3 4  5\n",
      "Enter the target value: 4\n",
      "Target value found at index 3.\n"
     ]
    }
   ],
   "source": [
    "def binary_search(arr, target):\n",
    "    left, right = 0, len(arr) - 1\n",
    "    while left <= right:\n",
    "        mid = (left + right) // 2\n",
    "        if arr[mid] == target:\n",
    "            return mid\n",
    "        elif arr[mid] < target:\n",
    "            left = mid + 1\n",
    "        else:\n",
    "            right = mid - 1\n",
    "    return -1\n",
    "\n",
    "# Example usage:\n",
    "arr = list(map(int, input(\"Enter a sorted list of integers: \").split()))\n",
    "target = int(input(\"Enter the target value: \"))\n",
    "index = binary_search(arr, target)\n",
    "if index == -1:\n",
    "    print(\"Target value not found in the list.\")\n",
    "else:\n",
    "    print(f\"Target value found at index {index}.\")\n"
   ]
  },
  {
   "cell_type": "markdown",
   "id": "72857357",
   "metadata": {},
   "source": [
    "### 2) Implement Merge Sort."
   ]
  },
  {
   "cell_type": "code",
   "execution_count": 5,
   "id": "1f256b0d",
   "metadata": {},
   "outputs": [
    {
     "name": "stdout",
     "output_type": "stream",
     "text": [
      "Enter a list of numbers to be sorted: 3 9 1 6 8 2\n",
      "Sorted array:  [1, 2, 3, 6, 8, 9]\n"
     ]
    }
   ],
   "source": [
    "def merge_sort(arr):\n",
    "    if len(arr) > 1:\n",
    "        mid = len(arr) // 2\n",
    "        left_half = arr[:mid]\n",
    "        right_half = arr[mid:]\n",
    "        \n",
    "        merge_sort(left_half)\n",
    "        merge_sort(right_half)\n",
    "        \n",
    "        i = j = k = 0\n",
    "        \n",
    "        while i < len(left_half) and j < len(right_half):\n",
    "            if left_half[i] < right_half[j]:\n",
    "                arr[k] = left_half[i]\n",
    "                i += 1\n",
    "            else:\n",
    "                arr[k] = right_half[j]\n",
    "                j += 1\n",
    "            k += 1\n",
    "        \n",
    "        while i < len(left_half):\n",
    "            arr[k] = left_half[i]\n",
    "            i += 1\n",
    "            k += 1\n",
    "        \n",
    "        while j < len(right_half):\n",
    "            arr[k] = right_half[j]\n",
    "            j += 1\n",
    "            k += 1\n",
    "\n",
    "\n",
    "# Take input from user\n",
    "arr = list(map(int, input(\"Enter a list of numbers to be sorted: \").split()))\n",
    "\n",
    "merge_sort(arr)\n",
    "print(\"Sorted array: \", arr)\n"
   ]
  },
  {
   "cell_type": "markdown",
   "id": "e46c38fa",
   "metadata": {},
   "source": [
    "### 3) Implement Quick Sort."
   ]
  },
  {
   "cell_type": "code",
   "execution_count": 6,
   "id": "74f935c0",
   "metadata": {},
   "outputs": [
    {
     "name": "stdout",
     "output_type": "stream",
     "text": [
      "Enter the size of the array: 6\n",
      "Enter element 1: 8\n",
      "Enter element 2: 3\n",
      "Enter element 3: 9\n",
      "Enter element 4: 1\n",
      "Enter element 5: 4\n",
      "Enter element 6: 3\n",
      "Sorted array:  [1, 3, 3, 4, 8, 9]\n"
     ]
    }
   ],
   "source": [
    "def quick_sort(arr):\n",
    "    if len(arr) <= 1:\n",
    "        return arr\n",
    "    else:\n",
    "        pivot = arr[0]\n",
    "        left = []\n",
    "        right = []\n",
    "        for i in range(1, len(arr)):\n",
    "            if arr[i] < pivot:\n",
    "                left.append(arr[i])\n",
    "            else:\n",
    "                right.append(arr[i])\n",
    "        return quick_sort(left) + [pivot] + quick_sort(right)\n",
    "\n",
    "arr = []\n",
    "n = int(input(\"Enter the size of the array: \"))\n",
    "for i in range(n):\n",
    "    x = int(input(\"Enter element \" + str(i+1) + \": \"))\n",
    "    arr.append(x)\n",
    "\n",
    "sorted_arr = quick_sort(arr)\n",
    "print(\"Sorted array: \", sorted_arr)\n"
   ]
  },
  {
   "cell_type": "markdown",
   "id": "bc1006b3",
   "metadata": {},
   "source": [
    "### 4) Implement Insertion Sort."
   ]
  },
  {
   "cell_type": "code",
   "execution_count": 7,
   "id": "d85967ce",
   "metadata": {},
   "outputs": [
    {
     "name": "stdout",
     "output_type": "stream",
     "text": [
      "Enter comma-separated numbers to sort: 7,3,1,8,2,0\n",
      "Sorted array: [0, 1, 2, 3, 7, 8]\n"
     ]
    }
   ],
   "source": [
    "def insertion_sort(arr):\n",
    "    for i in range(1, len(arr)):\n",
    "        key = arr[i]\n",
    "        j = i - 1\n",
    "        while j >= 0 and arr[j] > key:\n",
    "            arr[j + 1] = arr[j]\n",
    "            j -= 1\n",
    "        arr[j + 1] = key\n",
    "\n",
    "# Take input from user\n",
    "arr = input(\"Enter comma-separated numbers to sort: \").split(\",\")\n",
    "arr = [int(num) for num in arr]\n",
    "\n",
    "# Sort the array using Insertion Sort\n",
    "insertion_sort(arr)\n",
    "\n",
    "# Print the sorted array\n",
    "print(\"Sorted array:\", arr)\n"
   ]
  },
  {
   "cell_type": "markdown",
   "id": "e0e8f2bf",
   "metadata": {},
   "source": [
    "### 5) Write a program to sort list of strings (similar to that of dictionary)."
   ]
  },
  {
   "cell_type": "code",
   "execution_count": 8,
   "id": "f7c1471a",
   "metadata": {},
   "outputs": [
    {
     "name": "stdout",
     "output_type": "stream",
     "text": [
      "Enter a list of strings: ram sita lakshman bharath\n",
      "Sorted List:\n",
      "['bharath', 'lakshman', 'ram', 'sita']\n"
     ]
    }
   ],
   "source": [
    "string_list = input(\"Enter a list of strings: \").split()\n",
    "\n",
    "# Sorting the list using the sorted() function\n",
    "sorted_list = sorted(string_list)\n",
    "\n",
    "# Displaying the sorted list\n",
    "print(\"Sorted List:\")\n",
    "print(sorted_list)\n"
   ]
  },
  {
   "cell_type": "code",
   "execution_count": null,
   "id": "772b3aae",
   "metadata": {},
   "outputs": [],
   "source": []
  }
 ],
 "metadata": {
  "kernelspec": {
   "display_name": "Python 3 (ipykernel)",
   "language": "python",
   "name": "python3"
  },
  "language_info": {
   "codemirror_mode": {
    "name": "ipython",
    "version": 3
   },
   "file_extension": ".py",
   "mimetype": "text/x-python",
   "name": "python",
   "nbconvert_exporter": "python",
   "pygments_lexer": "ipython3",
   "version": "3.9.13"
  }
 },
 "nbformat": 4,
 "nbformat_minor": 5
}
