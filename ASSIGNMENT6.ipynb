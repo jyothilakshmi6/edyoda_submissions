{
 "cells": [
  {
   "cell_type": "markdown",
   "id": "111ab956",
   "metadata": {},
   "source": [
    "### TASK1"
   ]
  },
  {
   "cell_type": "code",
   "execution_count": 5,
   "id": "f1b26f4d",
   "metadata": {},
   "outputs": [
    {
     "name": "stdout",
     "output_type": "stream",
     "text": [
      "Name: Aarav Patel, DOB: 22-11-1990, Height: 5.7, City: Ahmedabad, State: Gujarat\n",
      "Name: Aditi Rao, DOB: 14-02-1985, Height: 5.4, City: Mumbai, State: Maharashtra\n",
      "Name: Arjun Singh, DOB: 06-09-1993, Height: 5.9, City: Delhi, State: Delhi\n",
      "Name: Isha Gupta, DOB: 02-07-1987, Height: 5.2, City: Jaipur, State: Rajasthan\n",
      "Name: Neha Singhania, DOB: 18-12-1991, Height: 5.6, City: Kolkata, State: West Bengal\n"
     ]
    }
   ],
   "source": [
    "import json\n",
    "\n",
    "class Employee:\n",
    "    def __init__(self, name, dob, height, city, state):\n",
    "        self.name = name\n",
    "        self.dob = dob\n",
    "        self.height = height\n",
    "        self.city = city\n",
    "        self.state = state\n",
    "\n",
    "with open('employee.json', 'r') as f:\n",
    "    data = json.load(f)\n",
    "\n",
    "employees = []\n",
    "for employee_info in data['employees']:\n",
    "    employee = Employee(employee_info['Name'], employee_info['DOB'], employee_info['Height'], employee_info['City'], employee_info['State'])\n",
    "    employees.append(employee)\n",
    "\n",
    "for employee in employees:\n",
    "    print(f\"Name: {employee.name}, DOB: {employee.dob}, Height: {employee.height}, City: {employee.city}, State: {employee.state}\")"
   ]
  },
  {
   "cell_type": "markdown",
   "id": "9e06ec98",
   "metadata": {},
   "source": [
    "### TASK 2"
   ]
  },
  {
   "cell_type": "code",
   "execution_count": 6,
   "id": "730ed4d6",
   "metadata": {},
   "outputs": [],
   "source": [
    "import json\n",
    "\n",
    "states_dict = {\n",
    "    \"Andhra Pradesh\": \"Vizag\",\n",
    "    \"Assam\": \"Dispur\",\n",
    "    \"Bihar\": \"Patna\",\n",
    "    \"Gujarat\": \"Gandhinagar\",\n",
    "    \"Karnataka\": \"Bengaluru\",\n",
    "    \"Maharashtra\": \"Mumbai\",\n",
    "    \"Tamil Nadu\": \"Chennai\"\n",
    "}\n",
    "\n",
    "with open('states.json', 'w') as f:\n",
    "    json.dump(states_dict, f)"
   ]
  },
  {
   "cell_type": "code",
   "execution_count": null,
   "id": "2a8fed0c",
   "metadata": {},
   "outputs": [],
   "source": []
  }
 ],
 "metadata": {
  "kernelspec": {
   "display_name": "Python 3 (ipykernel)",
   "language": "python",
   "name": "python3"
  },
  "language_info": {
   "codemirror_mode": {
    "name": "ipython",
    "version": 3
   },
   "file_extension": ".py",
   "mimetype": "text/x-python",
   "name": "python",
   "nbconvert_exporter": "python",
   "pygments_lexer": "ipython3",
   "version": "3.9.13"
  }
 },
 "nbformat": 4,
 "nbformat_minor": 5
}
