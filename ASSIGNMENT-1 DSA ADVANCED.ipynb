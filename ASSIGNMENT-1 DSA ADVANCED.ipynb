{
 "cells": [
  {
   "cell_type": "markdown",
   "id": "6603f8b3",
   "metadata": {},
   "source": [
    "### 1) Delete the elements in an linked list whose sum is equal to zero."
   ]
  },
  {
   "cell_type": "code",
   "execution_count": 3,
   "id": "fdd7128b",
   "metadata": {},
   "outputs": [
    {
     "name": "stdout",
     "output_type": "stream",
     "text": [
      "Enter the number of elements: 4\n",
      "Enter element 1: 3\n",
      "Enter element 2: 2\n",
      "Enter element 3: 7\n",
      "Enter element 4: -7\n",
      "3 2 7 -7 \n"
     ]
    }
   ],
   "source": [
    "class Node:\n",
    "    def __init__(self, data=None):\n",
    "        self.data = data\n",
    "        self.next = None\n",
    "\n",
    "class LinkedList:\n",
    "    def __init__(self):\n",
    "        self.head = None\n",
    "\n",
    "    def insert_at_end(self, data):\n",
    "        new_node = Node(data)\n",
    "        if self.head is None:\n",
    "            self.head = new_node\n",
    "        else:\n",
    "            curr_node = self.head\n",
    "            while curr_node.next is not None:\n",
    "                curr_node = curr_node.next\n",
    "            curr_node.next = new_node\n",
    "\n",
    "    def delete_sum_zero(self):\n",
    "        # Find all possible sublists\n",
    "        sublists = []\n",
    "        curr_node = self.head\n",
    "        while curr_node is not None:\n",
    "            sublist = []\n",
    "            sublist_sum = 0\n",
    "            while curr_node is not None:\n",
    "                sublist.append(curr_node)\n",
    "                sublist_sum += curr_node.data\n",
    "                if sublist_sum == 0:\n",
    "                    sublists.append(sublist.copy())\n",
    "                curr_node = curr_node.next\n",
    "\n",
    "        # Delete nodes in sublists\n",
    "        for sublist in sublists:\n",
    "            for node in sublist:\n",
    "                if node == self.head:\n",
    "                    self.head = node.next\n",
    "                else:\n",
    "                    prev_node.next = node.next\n",
    "                prev_node = node\n",
    "\n",
    "    def display(self):\n",
    "        curr_node = self.head\n",
    "        while curr_node is not None:\n",
    "            print(curr_node.data, end=\" \")\n",
    "            curr_node = curr_node.next\n",
    "        print()\n",
    "\n",
    "# Take input from user\n",
    "n = int(input(\"Enter the number of elements: \"))\n",
    "lst = LinkedList()\n",
    "for i in range(n):\n",
    "    data = int(input(f\"Enter element {i+1}: \"))\n",
    "    lst.insert_at_end(data)\n",
    "\n",
    "# Delete nodes whose sum is zero\n",
    "lst.delete_sum_zero()\n",
    "\n",
    "# Display the modified linked list\n",
    "lst.display()\n",
    "\n"
   ]
  },
  {
   "cell_type": "markdown",
   "id": "cf668744",
   "metadata": {},
   "source": [
    "### 2) Reverse a linked list in groups of given size."
   ]
  },
  {
   "cell_type": "code",
   "execution_count": 5,
   "id": "800f9f1e",
   "metadata": {},
   "outputs": [
    {
     "name": "stdout",
     "output_type": "stream",
     "text": [
      "Enter the number of elements in the linked list: 9\n",
      "Enter element 1: 1\n",
      "Enter element 2: 2\n",
      "Enter element 3: 3\n",
      "Enter element 4: 4\n",
      "Enter element 5: 5\n",
      "Enter element 6: 6\n",
      "Enter element 7: 7\n",
      "Enter element 8: 8\n",
      "Enter element 9: 9\n",
      "Enter the size of each group: 3\n",
      "1 -> 2 -> 3 -> 4 -> 5 -> 6 -> 7 -> 8 -> 9 -> None\n",
      "3 -> 2 -> 1 -> 6 -> 5 -> 4 -> 9 -> 8 -> 7 -> None\n"
     ]
    }
   ],
   "source": [
    "class Node:\n",
    "    def __init__(self, data=None):\n",
    "        self.data = data\n",
    "        self.next = None\n",
    "\n",
    "class LinkedList:\n",
    "    def __init__(self):\n",
    "        self.head = None\n",
    "    \n",
    "    def insert_at_end(self, data):\n",
    "        new_node = Node(data)\n",
    "        if self.head is None:\n",
    "            self.head = new_node\n",
    "        else:\n",
    "            current = self.head\n",
    "            while current.next is not None:\n",
    "                current = current.next\n",
    "            current.next = new_node\n",
    "    \n",
    "    def reverse_in_groups(self, size):\n",
    "        current = self.head\n",
    "        prev = None\n",
    "        while current is not None:\n",
    "            stack = []\n",
    "            count = 0\n",
    "            while current is not None and count < size:\n",
    "                stack.append(current)\n",
    "                current = current.next\n",
    "                count += 1\n",
    "            while stack:\n",
    "                if prev is None:\n",
    "                    prev = stack.pop()\n",
    "                    self.head = prev\n",
    "                else:\n",
    "                    prev.next = stack.pop()\n",
    "                    prev = prev.next\n",
    "        prev.next = None\n",
    "    \n",
    "    def display(self):\n",
    "        current = self.head\n",
    "        while current is not None:\n",
    "            print(current.data, end=' -> ')\n",
    "            current = current.next\n",
    "        print('None')\n",
    "    \n",
    "if __name__ == '__main__':\n",
    "    llist = LinkedList()\n",
    "    n = int(input('Enter the number of elements in the linked list: '))\n",
    "    for i in range(n):\n",
    "        data = int(input('Enter element {}: '.format(i + 1)))\n",
    "        llist.insert_at_end(data)\n",
    "    size = int(input('Enter the size of each group: '))\n",
    "    llist.display()\n",
    "    llist.reverse_in_groups(size)\n",
    "    llist.display()\n"
   ]
  },
  {
   "cell_type": "markdown",
   "id": "d338ab7e",
   "metadata": {},
   "source": [
    "### 3) Merge a linked list into another linked list at alternate positions."
   ]
  },
  {
   "cell_type": "code",
   "execution_count": 7,
   "id": "4b7e54b1",
   "metadata": {},
   "outputs": [
    {
     "name": "stdout",
     "output_type": "stream",
     "text": [
      "Enter the number of elements in the first list: 3\n",
      "Enter the elements of the first list:\n",
      "1\n",
      "2\n",
      "3\n",
      "Enter the number of elements in the second list: 3\n",
      "Enter the elements of the second list:\n",
      "4\n",
      "5\n",
      "6\n",
      "Merged linked list:\n",
      "1 4 2 5 3 6 \n"
     ]
    }
   ],
   "source": [
    "# Node class to create a new node\n",
    "class Node:\n",
    "    def __init__(self, data):\n",
    "        self.data = data\n",
    "        self.next = None\n",
    "\n",
    "# Linked list class to create a linked list\n",
    "class LinkedList:\n",
    "    def __init__(self):\n",
    "        self.head = None\n",
    "\n",
    "    # Method to insert a new node at the end of the linked list\n",
    "    def insert(self, data):\n",
    "        new_node = Node(data)\n",
    "        if self.head is None:\n",
    "            self.head = new_node\n",
    "        else:\n",
    "            current = self.head\n",
    "            while current.next:\n",
    "                current = current.next\n",
    "            current.next = new_node\n",
    "\n",
    "    # Method to merge two linked lists at alternate positions\n",
    "    def merge_at_alternate_positions(self, other_list):\n",
    "        current1 = self.head\n",
    "        current2 = other_list.head\n",
    "        while current1 and current2:\n",
    "            next1 = current1.next\n",
    "            next2 = current2.next\n",
    "\n",
    "            # Insert the node of the second list at the alternate position in the first list\n",
    "            current1.next = current2\n",
    "            current2.next = next1\n",
    "\n",
    "            # Move the pointers to the next nodes in the lists\n",
    "            current1 = next1\n",
    "            current2 = next2\n",
    "\n",
    "    # Method to print the linked list\n",
    "    def print_list(self):\n",
    "        current = self.head\n",
    "        while current:\n",
    "            print(current.data, end=' ')\n",
    "            current = current.next\n",
    "        print()\n",
    "\n",
    "# Create the first linked list\n",
    "llist1 = LinkedList()\n",
    "n1 = int(input(\"Enter the number of elements in the first list: \"))\n",
    "print(\"Enter the elements of the first list:\")\n",
    "for i in range(n1):\n",
    "    data = int(input())\n",
    "    llist1.insert(data)\n",
    "\n",
    "# Create the second linked list\n",
    "llist2 = LinkedList()\n",
    "n2 = int(input(\"Enter the number of elements in the second list: \"))\n",
    "print(\"Enter the elements of the second list:\")\n",
    "for i in range(n2):\n",
    "    data = int(input())\n",
    "    llist2.insert(data)\n",
    "\n",
    "# Merge the two linked lists at alternate positions\n",
    "llist1.merge_at_alternate_positions(llist2)\n",
    "\n",
    "# Print the merged linked list\n",
    "print(\"Merged linked list:\")\n",
    "llist1.print_list()\n"
   ]
  },
  {
   "cell_type": "markdown",
   "id": "c4c6a678",
   "metadata": {},
   "source": [
    "### 4) In an array, Count Pairs with given sum."
   ]
  },
  {
   "cell_type": "code",
   "execution_count": 8,
   "id": "14b966c2",
   "metadata": {},
   "outputs": [
    {
     "name": "stdout",
     "output_type": "stream",
     "text": [
      "Enter the array elements separated by space: 1 2 3 4 5\n",
      "Enter the target sum: 5\n",
      "Number of pairs in the array that add up to the target sum: 2\n"
     ]
    }
   ],
   "source": [
    "def count_pairs_with_sum(arr, target_sum):\n",
    "    count = 0\n",
    "    seen = set()\n",
    "    for num in arr:\n",
    "        complement = target_sum - num\n",
    "        if complement in seen:\n",
    "            count += 1\n",
    "        seen.add(num)\n",
    "    return count\n",
    "\n",
    "arr = list(map(int, input(\"Enter the array elements separated by space: \").split()))\n",
    "target_sum = int(input(\"Enter the target sum: \"))\n",
    "result = count_pairs_with_sum(arr, target_sum)\n",
    "print(\"Number of pairs in the array that add up to the target sum:\", result)\n"
   ]
  },
  {
   "cell_type": "markdown",
   "id": "946aaf2c",
   "metadata": {},
   "source": [
    "### 5) Find duplicates in an array."
   ]
  },
  {
   "cell_type": "code",
   "execution_count": 9,
   "id": "f06ea8c8",
   "metadata": {},
   "outputs": [
    {
     "name": "stdout",
     "output_type": "stream",
     "text": [
      "Enter array of integers separated by space: 1 5 2 5 6 3 6 4 7 5 2\n",
      "The duplicates in the array are: [5, 2, 6]\n"
     ]
    }
   ],
   "source": [
    "# take input from user\n",
    "arr = list(map(int, input(\"Enter array of integers separated by space: \").split()))\n",
    "\n",
    "# create an empty dictionary to store frequencies of each integer\n",
    "freq_dict = {}\n",
    "\n",
    "# iterate over the array\n",
    "for num in arr:\n",
    "    if num in freq_dict:\n",
    "        # if number is already in dictionary, increment its frequency\n",
    "        freq_dict[num] += 1\n",
    "    else:\n",
    "        # if number is not in dictionary, add it with frequency 1\n",
    "        freq_dict[num] = 1\n",
    "\n",
    "# iterate over the dictionary and print out the duplicates\n",
    "duplicates = []\n",
    "for num, freq in freq_dict.items():\n",
    "    if freq > 1:\n",
    "        duplicates.append(num)\n",
    "\n",
    "if len(duplicates) > 0:\n",
    "    print(\"The duplicates in the array are:\", duplicates)\n",
    "else:\n",
    "    print(\"There are no duplicates in the array.\")\n"
   ]
  },
  {
   "cell_type": "markdown",
   "id": "1e7c2f08",
   "metadata": {},
   "source": [
    "### 6) Find the Kth largest and Kth smallest number in an array."
   ]
  },
  {
   "cell_type": "code",
   "execution_count": 10,
   "id": "6d9acfb3",
   "metadata": {},
   "outputs": [
    {
     "name": "stdout",
     "output_type": "stream",
     "text": [
      "Enter the elements of the array separated by space: 2 4 7 1 6 9 0 3 5\n",
      "Enter the value of k: 8\n",
      "8th largest number is: 1\n",
      "8th smallest number is: 7\n"
     ]
    }
   ],
   "source": [
    "# Taking input from user\n",
    "arr = list(map(int, input(\"Enter the elements of the array separated by space: \").split()))\n",
    "k = int(input(\"Enter the value of k: \"))\n",
    "\n",
    "# Using quickselect algorithm to find Kth largest and Kth smallest number\n",
    "def quickselect(arr, k, left, right):\n",
    "    if left == right:\n",
    "        return arr[left]\n",
    "\n",
    "    pivot_index = (left + right) // 2\n",
    "    pivot = arr[pivot_index]\n",
    "\n",
    "    # Partition the array\n",
    "    i = left\n",
    "    j = right\n",
    "    while i <= j:\n",
    "        while arr[i] < pivot:\n",
    "            i += 1\n",
    "        while arr[j] > pivot:\n",
    "            j -= 1\n",
    "        if i <= j:\n",
    "            arr[i], arr[j] = arr[j], arr[i]\n",
    "            i += 1\n",
    "            j -= 1\n",
    "\n",
    "    # Recurse on the appropriate subarray\n",
    "    if k <= j:\n",
    "        return quickselect(arr, k, left, j)\n",
    "    elif k >= i:\n",
    "        return quickselect(arr, k, i, right)\n",
    "    else:\n",
    "        return arr[k]\n",
    "\n",
    "kth_largest = quickselect(arr, len(arr)-k, 0, len(arr)-1)\n",
    "kth_smallest = quickselect(arr, k-1, 0, len(arr)-1)\n",
    "\n",
    "# Printing the output\n",
    "print(f\"{k}th largest number is: {kth_largest}\")\n",
    "print(f\"{k}th smallest number is: {kth_smallest}\")\n"
   ]
  },
  {
   "cell_type": "markdown",
   "id": "8b2dc1e8",
   "metadata": {},
   "source": [
    "### 7) Move all the negative elements to one side of the array."
   ]
  },
  {
   "cell_type": "code",
   "execution_count": 11,
   "id": "f5eec000",
   "metadata": {},
   "outputs": [
    {
     "name": "stdout",
     "output_type": "stream",
     "text": [
      "Enter the array: 2 -5 -2 4 6 -8 7 4\n",
      "Updated array: [-8, -5, -2, 4, 6, 2, 7, 4]\n"
     ]
    }
   ],
   "source": [
    "# Taking input from the user\n",
    "arr = list(map(int, input(\"Enter the array: \").split()))\n",
    "\n",
    "# Initializing two pointers: left and right\n",
    "left = 0\n",
    "right = len(arr) - 1\n",
    "\n",
    "# Loop until left pointer is less than or equal to right pointer\n",
    "while left <= right:\n",
    "\n",
    "    # If the left element is negative, move to the next element\n",
    "    if arr[left] < 0:\n",
    "        left += 1\n",
    "\n",
    "    # If the right element is positive, move to the previous element\n",
    "    elif arr[right] >= 0:\n",
    "        right -= 1\n",
    "\n",
    "    # If both elements are in the wrong place, swap them\n",
    "    else:\n",
    "        arr[left], arr[right] = arr[right], arr[left]\n",
    "        left += 1\n",
    "        right -= 1\n",
    "\n",
    "# Print the updated array\n",
    "print(\"Updated array:\", arr)\n"
   ]
  },
  {
   "cell_type": "markdown",
   "id": "1e1cadd7",
   "metadata": {},
   "source": [
    "### 8) Reverse a string using a stack data structure."
   ]
  },
  {
   "cell_type": "code",
   "execution_count": 12,
   "id": "12beabcf",
   "metadata": {},
   "outputs": [
    {
     "name": "stdout",
     "output_type": "stream",
     "text": [
      "Enter a string: hello world\n",
      "Reversed string: dlrow olleh\n"
     ]
    }
   ],
   "source": [
    "# Define the Stack class\n",
    "class Stack:\n",
    "    def __init__(self):\n",
    "        self.items = []\n",
    "        \n",
    "    def push(self, item):\n",
    "        self.items.append(item)\n",
    "        \n",
    "    def pop(self):\n",
    "        return self.items.pop()\n",
    "        \n",
    "    def is_empty(self):\n",
    "        return len(self.items) == 0\n",
    "\n",
    "# Take input from the user\n",
    "string = input(\"Enter a string: \")\n",
    "\n",
    "# Create a stack and push each character onto it\n",
    "stack = Stack()\n",
    "for char in string:\n",
    "    stack.push(char)\n",
    "\n",
    "# Pop each character off the stack and append it to a new string\n",
    "reversed_string = \"\"\n",
    "while not stack.is_empty():\n",
    "    reversed_string += stack.pop()\n",
    "\n",
    "# Print the reversed string\n",
    "print(\"Reversed string:\", reversed_string)\n"
   ]
  },
  {
   "cell_type": "markdown",
   "id": "38bca35d",
   "metadata": {},
   "source": [
    "### 9) Evaluate a postfix expression using stack."
   ]
  },
  {
   "cell_type": "code",
   "execution_count": 17,
   "id": "07b9a0e5",
   "metadata": {},
   "outputs": [
    {
     "name": "stdout",
     "output_type": "stream",
     "text": [
      "Enter a postfix expression: 56+5-\n",
      "Result:  6\n"
     ]
    }
   ],
   "source": [
    "# Define a function to evaluate postfix expressions\n",
    "def evaluate_postfix(expression):\n",
    "    # Create an empty stack to hold operands\n",
    "    stack = []\n",
    "\n",
    "    # Iterate through each character in the expression\n",
    "    for char in expression:\n",
    "        # If the character is a digit, push it onto the stack\n",
    "        if char.isdigit():\n",
    "            stack.append(int(char))\n",
    "        else:\n",
    "            # Otherwise, the character is an operator\n",
    "            # Pop the top two operands from the stack\n",
    "            operand2 = stack.pop()\n",
    "            operand1 = stack.pop()\n",
    "\n",
    "            # Apply the operator to the operands and push the result onto the stack\n",
    "            if char == \"+\":\n",
    "                stack.append(operand1 + operand2)\n",
    "            elif char == \"-\":\n",
    "                stack.append(operand1 - operand2)\n",
    "            elif char == \"*\":\n",
    "                stack.append(operand1 * operand2)\n",
    "            elif char == \"/\":\n",
    "                stack.append(int(operand1 / operand2))\n",
    "\n",
    "    # The final result is the only element remaining on the stack\n",
    "    return stack.pop()\n",
    "\n",
    "# Ask the user to input a postfix expression\n",
    "expression = input(\"Enter a postfix expression: \")\n",
    "\n",
    "# Evaluate the expression and print the result\n",
    "result = evaluate_postfix(expression)\n",
    "print(\"Result: \", result)\n"
   ]
  },
  {
   "cell_type": "markdown",
   "id": "f8f130de",
   "metadata": {},
   "source": [
    "### 10) Implement a queue using the stack data structure.\n"
   ]
  },
  {
   "cell_type": "code",
   "execution_count": 23,
   "id": "13dacefb",
   "metadata": {},
   "outputs": [
    {
     "name": "stdout",
     "output_type": "stream",
     "text": [
      "1\n",
      "2\n",
      "3\n",
      "4\n",
      "True\n"
     ]
    }
   ],
   "source": [
    "class Queue:\n",
    "    def __init__(self):\n",
    "        self.in_stack = []\n",
    "        self.out_stack = []\n",
    "\n",
    "    def enqueue(self, value):\n",
    "        self.in_stack.append(value)\n",
    "\n",
    "    def dequeue(self):\n",
    "        if not self.out_stack:\n",
    "            while self.in_stack:\n",
    "                self.out_stack.append(self.in_stack.pop())\n",
    "        if not self.out_stack:\n",
    "            raise ValueError('Queue is empty')\n",
    "        return self.out_stack.pop()\n",
    "\n",
    "    def is_empty(self):\n",
    "        return not (self.in_stack or self.out_stack)\n",
    "\n",
    "    def __len__(self):\n",
    "        return len(self.in_stack) + len(self.out_stack)\n",
    "\n",
    "# Example usage:\n",
    "q = Queue()\n",
    "q.enqueue(1)\n",
    "q.enqueue(2)\n",
    "q.enqueue(3)\n",
    "print(q.dequeue())  # Output: 1\n",
    "q.enqueue(4)\n",
    "print(q.dequeue())  # Output: 2\n",
    "print(q.dequeue())  # Output: 3\n",
    "print(q.dequeue())  # Output: 4\n",
    "print(q.is_empty()) # Output: True\n",
    "\n"
   ]
  },
  {
   "cell_type": "code",
   "execution_count": null,
   "id": "d8704e4b",
   "metadata": {},
   "outputs": [],
   "source": []
  }
 ],
 "metadata": {
  "kernelspec": {
   "display_name": "Python 3 (ipykernel)",
   "language": "python",
   "name": "python3"
  },
  "language_info": {
   "codemirror_mode": {
    "name": "ipython",
    "version": 3
   },
   "file_extension": ".py",
   "mimetype": "text/x-python",
   "name": "python",
   "nbconvert_exporter": "python",
   "pygments_lexer": "ipython3",
   "version": "3.9.13"
  }
 },
 "nbformat": 4,
 "nbformat_minor": 5
}
