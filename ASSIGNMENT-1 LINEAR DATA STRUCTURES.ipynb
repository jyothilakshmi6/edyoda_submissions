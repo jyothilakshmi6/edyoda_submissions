{
 "cells": [
  {
   "cell_type": "markdown",
   "id": "b9cf92b9",
   "metadata": {},
   "source": [
    "###  Write a program to find all pairs of an integer array whose sum is equal to a given number."
   ]
  },
  {
   "cell_type": "code",
   "execution_count": 1,
   "id": "f40f3af6",
   "metadata": {},
   "outputs": [
    {
     "name": "stdout",
     "output_type": "stream",
     "text": [
      "Enter the array elements separated by space: 1 2 3 4 5\n",
      "Enter the target sum: 8\n",
      "Pairs that sum to 8 :\n",
      "(3, 5)\n"
     ]
    }
   ],
   "source": [
    "def find_pairs(arr, target_sum):\n",
    "    pairs = []\n",
    "    for i in range(len(arr)):\n",
    "        for j in range(i+1, len(arr)):\n",
    "            if arr[i] + arr[j] == target_sum:\n",
    "                pairs.append((arr[i], arr[j]))\n",
    "    return pairs\n",
    "\n",
    "# Take input from user\n",
    "arr = input(\"Enter the array elements separated by space: \")\n",
    "arr = [int(x) for x in arr.split()]\n",
    "target_sum = int(input(\"Enter the target sum: \"))\n",
    "\n",
    "# Call the function to find the pairs\n",
    "pairs = find_pairs(arr, target_sum)\n",
    "\n",
    "# Print the result\n",
    "if len(pairs) == 0:\n",
    "    print(\"No pairs found.\")\n",
    "else:\n",
    "    print(\"Pairs that sum to\", target_sum, \":\")\n",
    "    for pair in pairs:\n",
    "        print(pair)\n"
   ]
  },
  {
   "cell_type": "markdown",
   "id": "c173ced3",
   "metadata": {},
   "source": [
    "###  Write a program to reverse an array in place? In place means you cannot create a new array. You have to update the original array."
   ]
  },
  {
   "cell_type": "code",
   "execution_count": 3,
   "id": "7e74b682",
   "metadata": {},
   "outputs": [
    {
     "name": "stdout",
     "output_type": "stream",
     "text": [
      "Enter the array elements separated by space: 1 2 3 4 5\n",
      "Reversed array: [5, 4, 3, 2, 1]\n"
     ]
    }
   ],
   "source": [
    "# Take input from the user\n",
    "arr = input(\"Enter the array elements separated by space: \").split()\n",
    "\n",
    "# Convert each element to integer\n",
    "for i in range(len(arr)):\n",
    "    arr[i] = int(arr[i])\n",
    "\n",
    "# Reverse the array in place\n",
    "n = len(arr)\n",
    "for i in range(n // 2):\n",
    "    arr[i], arr[n-i-1] = arr[n-i-1], arr[i]\n",
    "\n",
    "# Print the reversed array\n",
    "print(\"Reversed array:\", arr)\n"
   ]
  },
  {
   "cell_type": "markdown",
   "id": "47820028",
   "metadata": {},
   "source": [
    "### Write a program to check if two strings are a rotation of each other."
   ]
  },
  {
   "cell_type": "code",
   "execution_count": 5,
   "id": "cfb3ce73",
   "metadata": {},
   "outputs": [
    {
     "name": "stdout",
     "output_type": "stream",
     "text": [
      "Enter the first string: edyoda\n",
      "Enter the second string: adoyda\n",
      "The strings are not a rotation of each other.\n"
     ]
    }
   ],
   "source": [
    "string1 = input(\"Enter the first string: \")\n",
    "string2 = input(\"Enter the second string: \")\n",
    "\n",
    "# Check if the lengths of the strings are equal\n",
    "if len(string1) != len(string2):\n",
    "    print(\"The strings are not a rotation of each other.\")\n",
    "else:\n",
    "    # Concatenate string1 with itself\n",
    "    temp = string1 + string1\n",
    "    \n",
    "    # Check if string2 is a substring of the concatenated string\n",
    "    if string2 in temp:\n",
    "        print(\"The strings are a rotation of each other.\")\n",
    "    else:\n",
    "        print(\"The strings are not a rotation of each other.\")\n"
   ]
  },
  {
   "cell_type": "markdown",
   "id": "e53a31d7",
   "metadata": {},
   "source": [
    "###  Write a program to print the first non-repeated character from a string."
   ]
  },
  {
   "cell_type": "code",
   "execution_count": 6,
   "id": "4d6846b8",
   "metadata": {},
   "outputs": [
    {
     "name": "stdout",
     "output_type": "stream",
     "text": [
      "Enter a string: jyothi\n",
      "The first non-repeated character is 'j'\n"
     ]
    }
   ],
   "source": [
    "input_string = input(\"Enter a string: \")\n",
    "char_count = {}\n",
    "\n",
    "# count the number of occurrences of each character in the string\n",
    "for char in input_string:\n",
    "    if char in char_count:\n",
    "        char_count[char] += 1\n",
    "    else:\n",
    "        char_count[char] = 1\n",
    "\n",
    "# find the first character with a count of 1\n",
    "for char in input_string:\n",
    "    if char_count[char] == 1:\n",
    "        print(f\"The first non-repeated character is '{char}'\")\n",
    "        break\n",
    "else:\n",
    "    print(\"There are no non-repeated characters in the string.\")\n"
   ]
  },
  {
   "cell_type": "markdown",
   "id": "92ad9c86",
   "metadata": {},
   "source": [
    "### Read about the Tower of Hanoi algorithm. Write a program to implement it."
   ]
  },
  {
   "cell_type": "code",
   "execution_count": 7,
   "id": "2ffed118",
   "metadata": {},
   "outputs": [
    {
     "name": "stdout",
     "output_type": "stream",
     "text": [
      "Enter the number of disks: 4\n",
      "Move disk 1 from A to B\n",
      "Move disk 2 from A to C\n",
      "Move disk 1 from B to C\n",
      "Move disk 3 from A to B\n",
      "Move disk 1 from C to A\n",
      "Move disk 2 from C to B\n",
      "Move disk 1 from A to B\n",
      "Move disk 4 from A to C\n",
      "Move disk 1 from B to C\n",
      "Move disk 2 from B to A\n",
      "Move disk 1 from C to A\n",
      "Move disk 3 from B to C\n",
      "Move disk 1 from A to B\n",
      "Move disk 2 from A to C\n",
      "Move disk 1 from B to C\n"
     ]
    }
   ],
   "source": [
    "def tower_of_hanoi(n, source, destination, auxiliary):\n",
    "    if n == 1:\n",
    "        print(f\"Move disk 1 from {source} to {destination}\")\n",
    "        return\n",
    "    tower_of_hanoi(n-1, source, auxiliary, destination)\n",
    "    print(f\"Move disk {n} from {source} to {destination}\")\n",
    "    tower_of_hanoi(n-1, auxiliary, destination, source)\n",
    "    \n",
    "n = int(input(\"Enter the number of disks: \"))\n",
    "tower_of_hanoi(n, 'A', 'C', 'B')\n"
   ]
  },
  {
   "cell_type": "markdown",
   "id": "d398e314",
   "metadata": {},
   "source": [
    "###  Write a program to convert prefix expression to infix expression."
   ]
  },
  {
   "cell_type": "code",
   "execution_count": 11,
   "id": "936e4a97",
   "metadata": {},
   "outputs": [
    {
     "name": "stdout",
     "output_type": "stream",
     "text": [
      "Enter a prefix expression: *+AB-CD\n",
      "Infix expression:  ((A+B)*(C-D))\n"
     ]
    }
   ],
   "source": [
    "def prefix_to_infix(prefix):\n",
    "    stack = []\n",
    "    for i in range(len(prefix)-1, -1, -1):\n",
    "        if prefix[i].isalpha() or prefix[i].isdigit():\n",
    "            stack.append(prefix[i])\n",
    "        else:\n",
    "            op1 = stack.pop()\n",
    "            op2 = stack.pop()\n",
    "            expr = \"(\" + op1 + prefix[i] + op2 + \")\"\n",
    "            stack.append(expr)\n",
    "    return stack.pop()\n",
    "\n",
    "prefix_exp = input(\"Enter a prefix expression: \")\n",
    "infix_exp = prefix_to_infix(prefix_exp)\n",
    "print(\"Infix expression: \", infix_exp)\n"
   ]
  },
  {
   "cell_type": "markdown",
   "id": "04efaa3f",
   "metadata": {},
   "source": [
    "###   Write a program to check if all the brackets are closed in a given code snippet."
   ]
  },
  {
   "cell_type": "code",
   "execution_count": 12,
   "id": "ea42ac06",
   "metadata": {},
   "outputs": [
    {
     "name": "stdout",
     "output_type": "stream",
     "text": [
      "Enter a code snippet: if (a == b) {     print(\"a is equal to b.\"); }\n",
      "All brackets are properly closed.\n"
     ]
    }
   ],
   "source": [
    "def check_brackets(code):\n",
    "    stack = []\n",
    "    brackets = {')': '(', '}': '{', ']': '['}\n",
    "    for char in code:\n",
    "        if char in brackets.values():\n",
    "            stack.append(char)\n",
    "        elif char in brackets.keys():\n",
    "            if not stack or brackets[char] != stack.pop():\n",
    "                return False\n",
    "    return not stack\n",
    "\n",
    "code = input(\"Enter a code snippet: \")\n",
    "if check_brackets(code):\n",
    "    print(\"All brackets are properly closed.\")\n",
    "else:\n",
    "    print(\"Brackets are not properly closed.\")\n"
   ]
  },
  {
   "cell_type": "markdown",
   "id": "bc307ea5",
   "metadata": {},
   "source": [
    "###  Write a program to reverse a stack."
   ]
  },
  {
   "cell_type": "code",
   "execution_count": 13,
   "id": "8c904084",
   "metadata": {},
   "outputs": [
    {
     "name": "stdout",
     "output_type": "stream",
     "text": [
      "Enter the number of items in the stack: 5\n",
      "Enter item 1: 5\n",
      "Enter item 2: 6\n",
      "Enter item 3: 9\n",
      "Enter item 4: 3\n",
      "Enter item 5: 2\n",
      "Reversed stack:\n",
      "2\n",
      "3\n",
      "9\n",
      "6\n",
      "5\n"
     ]
    }
   ],
   "source": [
    "# Define a Stack class\n",
    "class Stack:\n",
    "    def __init__(self):\n",
    "        self.items = []\n",
    "\n",
    "    def is_empty(self):\n",
    "        return self.items == []\n",
    "\n",
    "    def push(self, item):\n",
    "        self.items.append(item)\n",
    "\n",
    "    def pop(self):\n",
    "        return self.items.pop()\n",
    "\n",
    "    def peek(self):\n",
    "        return self.items[-1]\n",
    "\n",
    "    def size(self):\n",
    "        return len(self.items)\n",
    "\n",
    "\n",
    "# Create a function to reverse a stack\n",
    "def reverse_stack(stack):\n",
    "    # Create a temporary stack\n",
    "    temp_stack = Stack()\n",
    "\n",
    "    # Pop each item from the original stack and push it onto the temp stack\n",
    "    while not stack.is_empty():\n",
    "        temp_stack.push(stack.pop())\n",
    "\n",
    "    # Pop each item from the temp stack and push it back onto the original stack\n",
    "    while not temp_stack.is_empty():\n",
    "        stack.push(temp_stack.pop())\n",
    "\n",
    "\n",
    "# Prompt the user to enter values for the stack\n",
    "stack = Stack()\n",
    "n = int(input(\"Enter the number of items in the stack: \"))\n",
    "for i in range(n):\n",
    "    item = input(f\"Enter item {i+1}: \")\n",
    "    stack.push(item)\n",
    "\n",
    "# Reverse the stack\n",
    "reverse_stack(stack)\n",
    "\n",
    "# Print the reversed stack\n",
    "print(\"Reversed stack:\")\n",
    "while not stack.is_empty():\n",
    "    print(stack.pop())\n"
   ]
  },
  {
   "cell_type": "markdown",
   "id": "69113bcc",
   "metadata": {},
   "source": [
    "###  Write a program to find the smallest number using a stack."
   ]
  },
  {
   "cell_type": "code",
   "execution_count": 14,
   "id": "7a42b2fe",
   "metadata": {},
   "outputs": [
    {
     "name": "stdout",
     "output_type": "stream",
     "text": [
      "Enter a number to add to the stack (press enter to stop): 5\n",
      "Enter a number to add to the stack (press enter to stop): 8\n",
      "Enter a number to add to the stack (press enter to stop): \n",
      "The smallest number in the stack is: 5\n"
     ]
    }
   ],
   "source": [
    "stack = []  # create an empty stack\n",
    "\n",
    "# take user input to add numbers to the stack\n",
    "while True:\n",
    "    num = input(\"Enter a number to add to the stack (press enter to stop): \")\n",
    "    if num == \"\":\n",
    "        break\n",
    "    stack.append(int(num))  # convert input to integer and add to stack\n",
    "\n",
    "# find the smallest number in the stack\n",
    "smallest = stack[0]  # assume first number is smallest\n",
    "for num in stack:\n",
    "    if num < smallest:\n",
    "        smallest = num\n",
    "\n",
    "# print the smallest number\n",
    "print(\"The smallest number in the stack is:\", smallest)\n"
   ]
  },
  {
   "cell_type": "code",
   "execution_count": null,
   "id": "e4b38771",
   "metadata": {},
   "outputs": [],
   "source": []
  }
 ],
 "metadata": {
  "kernelspec": {
   "display_name": "Python 3 (ipykernel)",
   "language": "python",
   "name": "python3"
  },
  "language_info": {
   "codemirror_mode": {
    "name": "ipython",
    "version": 3
   },
   "file_extension": ".py",
   "mimetype": "text/x-python",
   "name": "python",
   "nbconvert_exporter": "python",
   "pygments_lexer": "ipython3",
   "version": "3.9.13"
  }
 },
 "nbformat": 4,
 "nbformat_minor": 5
}
