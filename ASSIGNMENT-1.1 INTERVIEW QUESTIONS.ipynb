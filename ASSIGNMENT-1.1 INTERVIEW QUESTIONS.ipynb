{
 "cells": [
  {
   "cell_type": "markdown",
   "id": "260a0cb9",
   "metadata": {},
   "source": [
    "### Find and read 20 interview questions for Data Types, Operators, Conditional Statements, Looping Statements, Functions."
   ]
  },
  {
   "cell_type": "code",
   "execution_count": null,
   "id": "5f5e24e6",
   "metadata": {},
   "outputs": [],
   "source": [
    "DATA TYPES:\n",
    "\n",
    "1.What are the different data types in Python?\n",
    "2.How do you declare a variable in Python?\n",
    "3.What is typecasting in Python?\n",
    "4.What is the difference between a list and a tuple in Python?\n",
    "5.How do you convert a string to an integer in Python?\n",
    "\n",
    "OPERATORS:\n",
    "    \n",
    "6. What are the different types of operators in Python?\n",
    "7.What is the difference between the '==' and 'is' operator in Python?\n",
    "8.How do you use the ternary operator in Python?\n",
    "9.What is operator overloading in Python?\n",
    "10.How do you concatenate two strings in Python?\n",
    "\n",
    "CONDITIONAL STATEMENTS:\n",
    "    \n",
    "11. What are conditional statements in Python?\n",
    "12.How do you use if-else statements in Python?\n",
    "13.What is the difference between 'if' and 'elif' statements in Python?\n",
    "14.How do you use the 'and' and 'or' operators in Python conditional statements?\n",
    "15.How do you use nested if statements in Python?\n",
    "\n",
    "LOOPING STATEMENTS:\n",
    "    \n",
    "16. What are looping statements in Python?\n",
    "17.How do you use the 'for' loop in Python?\n",
    "18.How do you use the 'while' loop in Python?\n",
    "19.What is the difference between a 'break' and 'continue' statement in Python?\n",
    "20.How do you use the 'range()' function in Python loops?\n",
    "\n",
    "FUNCTIONS:\n",
    "\n",
    "21.What is a function in Python and how is it used?\n",
    "22.What is the difference between a function definition and a function call in Python?\n",
    "23.How do you pass arguments to a function in Python?\n",
    "24.What is a return statement in Python and how does it work?\n",
    "25.What is the difference between a local and global variable in Python?\n",
    "\n"
   ]
  }
 ],
 "metadata": {
  "kernelspec": {
   "display_name": "Python 3 (ipykernel)",
   "language": "python",
   "name": "python3"
  },
  "language_info": {
   "codemirror_mode": {
    "name": "ipython",
    "version": 3
   },
   "file_extension": ".py",
   "mimetype": "text/x-python",
   "name": "python",
   "nbconvert_exporter": "python",
   "pygments_lexer": "ipython3",
   "version": "3.9.13"
  }
 },
 "nbformat": 4,
 "nbformat_minor": 5
}
