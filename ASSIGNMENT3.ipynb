{
 "cells": [
  {
   "cell_type": "markdown",
   "id": "f4a639cb",
   "metadata": {},
   "source": [
    "### Write a python program to reverse a string.\n"
   ]
  },
  {
   "cell_type": "code",
   "execution_count": 1,
   "id": "c28340e2",
   "metadata": {},
   "outputs": [
    {
     "name": "stdout",
     "output_type": "stream",
     "text": [
      "Enter a string: jyothi\n",
      "ihtoyj\n"
     ]
    }
   ],
   "source": [
    "def reverse_string(string):\n",
    "    return string[::-1]\n",
    "print(reverse_string(input('Enter a string: ')))"
   ]
  },
  {
   "cell_type": "code",
   "execution_count": 2,
   "id": "fda4461b",
   "metadata": {},
   "outputs": [
    {
     "data": {
      "text/plain": [
       "'ihtoyj'"
      ]
     },
     "execution_count": 2,
     "metadata": {},
     "output_type": "execute_result"
    }
   ],
   "source": [
    "#Another Method \n",
    "def rev_string(string):\n",
    "    lis = []\n",
    "    for i in string:\n",
    "        lis.append(i)\n",
    "    lis.reverse()\n",
    "    return ''.join(lis)\n",
    "rev_string('jyothi')"
   ]
  },
  {
   "cell_type": "markdown",
   "id": "d571f022",
   "metadata": {},
   "source": [
    "### Write a python function to sum all the numbers in a list."
   ]
  },
  {
   "cell_type": "code",
   "execution_count": 4,
   "id": "7f6a6488",
   "metadata": {},
   "outputs": [
    {
     "name": "stdout",
     "output_type": "stream",
     "text": [
      "Enter a list : [1,2,3,4,5,6,7,8]\n",
      "36\n"
     ]
    }
   ],
   "source": [
    "import ast\n",
    "def sum_list(numbers):\n",
    "    add=0\n",
    "    for i in numbers:\n",
    "        add = add+i\n",
    "    return add\n",
    "print(sum_list(ast.literal_eval(input(\"Enter a list : \"))))\n",
    "        "
   ]
  },
  {
   "cell_type": "code",
   "execution_count": 3,
   "id": "a37f9fc0",
   "metadata": {},
   "outputs": [
    {
     "name": "stdout",
     "output_type": "stream",
     "text": [
      "15\n"
     ]
    }
   ],
   "source": [
    "#Another Method\n",
    "def sum_list(numbers):\n",
    "    return sum(numbers)\n",
    "print(sum_list([1,2,3,4,5]))"
   ]
  },
  {
   "cell_type": "markdown",
   "id": "1ac41207",
   "metadata": {},
   "source": [
    "### Write a python function that accepts a string and calculate the number of upper case letters and lower case letters."
   ]
  },
  {
   "cell_type": "code",
   "execution_count": 5,
   "id": "41673793",
   "metadata": {},
   "outputs": [
    {
     "name": "stdout",
     "output_type": "stream",
     "text": [
      "Enter a string: Today Is A Great Day\n",
      "No.of Upper case letters: 5\n",
      "No.of Lower case letters: 11\n"
     ]
    }
   ],
   "source": [
    "def count(string):\n",
    "    upper_count = 0\n",
    "    lower_count = 0\n",
    "    for char in string:\n",
    "        if char.isupper():\n",
    "            upper_count +=1\n",
    "        elif char.islower():\n",
    "            lower_count +=1\n",
    "        else:\n",
    "            pass\n",
    "    return(upper_count,lower_count)\n",
    "a,b = count(input('Enter a string: '))\n",
    "print(f\"No.of Upper case letters: {a}\\nNo.of Lower case letters: {b}\")"
   ]
  },
  {
   "cell_type": "code",
   "execution_count": null,
   "id": "f408cedd",
   "metadata": {},
   "outputs": [],
   "source": []
  }
 ],
 "metadata": {
  "kernelspec": {
   "display_name": "Python 3 (ipykernel)",
   "language": "python",
   "name": "python3"
  },
  "language_info": {
   "codemirror_mode": {
    "name": "ipython",
    "version": 3
   },
   "file_extension": ".py",
   "mimetype": "text/x-python",
   "name": "python",
   "nbconvert_exporter": "python",
   "pygments_lexer": "ipython3",
   "version": "3.9.13"
  }
 },
 "nbformat": 4,
 "nbformat_minor": 5
}
