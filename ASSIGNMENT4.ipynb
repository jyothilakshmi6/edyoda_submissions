{
 "cells": [
  {
   "cell_type": "markdown",
   "id": "6f65de00",
   "metadata": {},
   "source": [
    "### Write a python program to create a lambda function that adds 25 to a given number passed as an argument. "
   ]
  },
  {
   "cell_type": "code",
   "execution_count": 3,
   "id": "0f70a86f",
   "metadata": {},
   "outputs": [
    {
     "name": "stdout",
     "output_type": "stream",
     "text": [
      "Enter a number: 10\n",
      "Result after adding 25: 35\n"
     ]
    }
   ],
   "source": [
    "add_25 = lambda x: x + 25\n",
    "input_number = int(input(\"Enter a number: \"))\n",
    "result = add_25(input_number)\n",
    "print(\"Result after adding 25:\", result)"
   ]
  },
  {
   "cell_type": "markdown",
   "id": "f73e96ed",
   "metadata": {},
   "source": [
    "### Write a python program to triple all numbers of a given list of integers. Use python map."
   ]
  },
  {
   "cell_type": "code",
   "execution_count": 4,
   "id": "818a61c5",
   "metadata": {},
   "outputs": [
    {
     "name": "stdout",
     "output_type": "stream",
     "text": [
      "Enter a list of numbers separated by spaces: 1 2 3 4 5 6 7\n",
      "Tripled list: [3, 6, 9, 12, 15, 18, 21]\n"
     ]
    }
   ],
   "source": [
    "input_list = list(map(int, input(\"Enter a list of numbers separated by spaces: \").strip().split()))\n",
    "tripled_list = list(map(lambda x: x * 3, input_list))\n",
    "print(\"Tripled list:\", tripled_list)"
   ]
  },
  {
   "cell_type": "markdown",
   "id": "5f9882a5",
   "metadata": {},
   "source": [
    "### Write a python program to square the elements of a list using map() function. "
   ]
  },
  {
   "cell_type": "code",
   "execution_count": 5,
   "id": "b5841ac4",
   "metadata": {},
   "outputs": [
    {
     "name": "stdout",
     "output_type": "stream",
     "text": [
      "Enter a list of numbers separated by spaces: 4 5 2 9 3\n",
      "Squared list: [16, 25, 4, 81, 9]\n"
     ]
    }
   ],
   "source": [
    "input_list = list(map(int, input(\"Enter a list of numbers separated by spaces: \").strip().split()))\n",
    "squared_list = list(map(lambda x: x ** 2, input_list))\n",
    "print(\"Squared list:\", squared_list)"
   ]
  },
  {
   "cell_type": "code",
   "execution_count": null,
   "id": "340bcd9e",
   "metadata": {},
   "outputs": [],
   "source": []
  }
 ],
 "metadata": {
  "kernelspec": {
   "display_name": "Python 3 (ipykernel)",
   "language": "python",
   "name": "python3"
  },
  "language_info": {
   "codemirror_mode": {
    "name": "ipython",
    "version": 3
   },
   "file_extension": ".py",
   "mimetype": "text/x-python",
   "name": "python",
   "nbconvert_exporter": "python",
   "pygments_lexer": "ipython3",
   "version": "3.9.13"
  }
 },
 "nbformat": 4,
 "nbformat_minor": 5
}
