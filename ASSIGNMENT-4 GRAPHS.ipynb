{
 "cells": [
  {
   "cell_type": "markdown",
   "id": "6321609a",
   "metadata": {},
   "source": [
    "### 1) Breadth First Traversal for a Graph."
   ]
  },
  {
   "cell_type": "code",
   "execution_count": 1,
   "id": "40285422",
   "metadata": {},
   "outputs": [
    {
     "name": "stdout",
     "output_type": "stream",
     "text": [
      "Enter the number of vertices and edges: 6 7\n",
      "Enter edge 1: 1 2\n",
      "Enter edge 2: 1 3\n",
      "Enter edge 3: 2 4 \n",
      "Enter edge 4: 2 5\n",
      "Enter edge 5: 3 6\n",
      "Enter edge 6: 3 5\n",
      "Enter edge 7: 4 6\n",
      "Enter the starting node: 1\n",
      "1 2 3 4 5 6 \n"
     ]
    }
   ],
   "source": [
    "from collections import deque\n",
    "\n",
    "# function to perform BFS on the graph\n",
    "def bfs(graph, start):\n",
    "    # create a set to keep track of visited nodes\n",
    "    visited = set()\n",
    "    \n",
    "    # create a queue for BFS\n",
    "    queue = deque([start])\n",
    "    \n",
    "    # loop through the queue until it's empty\n",
    "    while queue:\n",
    "        # get the next node from the queue\n",
    "        node = queue.popleft()\n",
    "        \n",
    "        # if the node hasn't been visited yet, mark it as visited and print it\n",
    "        if node not in visited:\n",
    "            visited.add(node)\n",
    "            print(node, end=' ')\n",
    "            \n",
    "            # add all the neighbors of the node to the queue\n",
    "            queue.extend(graph[node] - visited)\n",
    "    \n",
    "    print()\n",
    "\n",
    "# main function to get input from the user and call BFS\n",
    "if __name__ == '__main__':\n",
    "    # get the number of vertices and edges in the graph\n",
    "    n, m = map(int, input('Enter the number of vertices and edges: ').split())\n",
    "    \n",
    "    # create an empty dictionary to represent the graph\n",
    "    graph = {i: set() for i in range(1, n+1)}\n",
    "    \n",
    "    # get the edges from the user and add them to the graph\n",
    "    for i in range(m):\n",
    "        u, v = map(int, input(f'Enter edge {i+1}: ').split())\n",
    "        graph[u].add(v)\n",
    "        graph[v].add(u)\n",
    "    \n",
    "    # get the starting node from the user\n",
    "    start = int(input('Enter the starting node: '))\n",
    "    \n",
    "    # call BFS on the graph starting from the starting node\n",
    "    bfs(graph, start)\n"
   ]
  },
  {
   "cell_type": "markdown",
   "id": "c8cb998e",
   "metadata": {},
   "source": [
    "### 2) Depth First Traversal for a Graph."
   ]
  },
  {
   "cell_type": "code",
   "execution_count": 3,
   "id": "f9194edf",
   "metadata": {},
   "outputs": [
    {
     "name": "stdout",
     "output_type": "stream",
     "text": [
      "Enter the number of vertices and edges: 5 6\n",
      "Enter edge 1: 1 3 \n",
      "Enter edge 2: 1 4\n",
      "Enter edge 3: 2 5\n",
      "Enter edge 4: 2 3\n",
      "Enter edge 5: 3 5\n",
      "Enter edge 6: 3 4\n",
      "Enter the starting node: 2\n",
      "2 3 1 4 5 "
     ]
    }
   ],
   "source": [
    "# function to perform DFS on the graph\n",
    "def dfs(graph, start, visited):\n",
    "    # mark the starting node as visited and print it\n",
    "    visited.add(start)\n",
    "    print(start, end=' ')\n",
    "    \n",
    "    # loop through all the neighbors of the starting node\n",
    "    for neighbor in graph[start]:\n",
    "        # if the neighbor hasn't been visited yet, recursively call DFS on it\n",
    "        if neighbor not in visited:\n",
    "            dfs(graph, neighbor, visited)\n",
    "\n",
    "# main function to get input from the user and call DFS\n",
    "if __name__ == '__main__':\n",
    "    # get the number of vertices and edges in the graph\n",
    "    n, m = map(int, input('Enter the number of vertices and edges: ').split())\n",
    "    \n",
    "    # create an empty dictionary to represent the graph\n",
    "    graph = {i: set() for i in range(1, n+1)}\n",
    "    \n",
    "    # get the edges from the user and add them to the graph\n",
    "    for i in range(m):\n",
    "        u, v = map(int, input(f'Enter edge {i+1}: ').split())\n",
    "        graph[u].add(v)\n",
    "        graph[v].add(u)\n",
    "    \n",
    "    # get the starting node from the user\n",
    "    start = int(input('Enter the starting node: '))\n",
    "    \n",
    "    # call DFS on the graph starting from the starting node\n",
    "    visited = set()\n",
    "    dfs(graph, start, visited)\n"
   ]
  },
  {
   "cell_type": "markdown",
   "id": "af0e75c9",
   "metadata": {},
   "source": [
    "### 3) Count the number of nodes at given level in a tree using BFS."
   ]
  },
  {
   "cell_type": "code",
   "execution_count": 4,
   "id": "23bef2f5",
   "metadata": {},
   "outputs": [
    {
     "name": "stdout",
     "output_type": "stream",
     "text": [
      "Enter the number of nodes and edges in the tree: 7 6\n",
      "Enter edge 1: 1 3\n",
      "Enter edge 2: 2 3\n",
      "Enter edge 3: 2 5\n",
      "Enter edge 4: 3 5\n",
      "Enter edge 5: 5 5\n",
      "Enter edge 6: 4 5\n",
      "Enter the level to count nodes at: 3\n",
      "There are 7 nodes at level 3 in the tree.\n"
     ]
    }
   ],
   "source": [
    "from collections import deque\n",
    "\n",
    "# function to count the number of nodes at a given level in a tree using BFS\n",
    "def count_nodes_at_level(graph, start, level):\n",
    "    # create a queue for BFS and add the starting node to it\n",
    "    queue = deque([(start, 0)])\n",
    "    \n",
    "    # initialize a variable to keep track of the number of nodes at the given level\n",
    "    count = 0\n",
    "    \n",
    "    # loop through the queue until it's empty\n",
    "    while queue:\n",
    "        # get the next node and its level from the queue\n",
    "        node, node_level = queue.popleft()\n",
    "        \n",
    "        # if the node is at the given level, increment the count\n",
    "        if node_level == level:\n",
    "            count += 1\n",
    "        \n",
    "        # if the node's level is greater than the given level, we can stop searching\n",
    "        if node_level > level:\n",
    "            break\n",
    "        \n",
    "        # add all the neighbors of the node to the queue with their levels incremented by 1\n",
    "        for neighbor in graph[node]:\n",
    "            queue.append((neighbor, node_level+1))\n",
    "    \n",
    "    # return the count of nodes at the given level\n",
    "    return count\n",
    "\n",
    "# main function to get input from the user and call the count_nodes_at_level function\n",
    "if __name__ == '__main__':\n",
    "    # get the number of nodes and edges in the tree\n",
    "    n, m = map(int, input('Enter the number of nodes and edges in the tree: ').split())\n",
    "    \n",
    "    # create an empty dictionary to represent the tree\n",
    "    tree = {i: set() for i in range(1, n+1)}\n",
    "    \n",
    "    # get the edges from the user and add them to the tree\n",
    "    for i in range(m):\n",
    "        u, v = map(int, input(f'Enter edge {i+1}: ').split())\n",
    "        tree[u].add(v)\n",
    "        tree[v].add(u)\n",
    "    \n",
    "    # get the level from the user\n",
    "    level = int(input('Enter the level to count nodes at: '))\n",
    "    \n",
    "    # call the count_nodes_at_level function on the tree starting from node 1\n",
    "    count = count_nodes_at_level(tree, 1, level)\n",
    "    print(f'There are {count} nodes at level {level} in the tree.')\n"
   ]
  },
  {
   "cell_type": "markdown",
   "id": "959661e3",
   "metadata": {},
   "source": [
    "### 4) Count number of trees in a forest"
   ]
  },
  {
   "cell_type": "code",
   "execution_count": 5,
   "id": "9d13955b",
   "metadata": {},
   "outputs": [
    {
     "name": "stdout",
     "output_type": "stream",
     "text": [
      "Enter the number of areas in the forest: 3\n",
      "Enter the number of trees in area 1 : 500\n",
      "Enter the number of trees in area 2 : 700\n",
      "Enter the number of trees in area 3 : 400\n",
      "The forest has a total of 1600 trees.\n"
     ]
    }
   ],
   "source": [
    "num_areas = int(input(\"Enter the number of areas in the forest: \"))\n",
    "total_trees = 0\n",
    "\n",
    "for i in range(1, num_areas+1):\n",
    "    trees = int(input(\"Enter the number of trees in area {} : \".format(i)))\n",
    "    total_trees += trees\n",
    "\n",
    "print(\"The forest has a total of {} trees.\".format(total_trees))\n"
   ]
  },
  {
   "cell_type": "markdown",
   "id": "312a3dbd",
   "metadata": {},
   "source": [
    "### 5) Detect Cycle in a Directed Graph.\n"
   ]
  },
  {
   "cell_type": "code",
   "execution_count": 7,
   "id": "4398c113",
   "metadata": {},
   "outputs": [
    {
     "name": "stdout",
     "output_type": "stream",
     "text": [
      "Enter the number of vertices: 4\n",
      "Enter the number of edges: 4\n",
      "Enter edge 1 (u, v): 2 3\n",
      "Enter edge 2 (u, v): 1 2\n",
      "Enter edge 3 (u, v): 1 3\n",
      "Enter edge 4 (u, v): 3 3\n",
      "The graph contains a cycle.\n"
     ]
    }
   ],
   "source": [
    "from collections import defaultdict\n",
    "\n",
    "class Graph:\n",
    "    def __init__(self, num_vertices):\n",
    "        self.graph = defaultdict(list)\n",
    "        self.num_vertices = num_vertices\n",
    "        self.visited = [False] * num_vertices\n",
    "        self.in_degree = [0] * num_vertices\n",
    "        \n",
    "    def add_edge(self, u, v):\n",
    "        self.graph[u].append(v)\n",
    "        self.in_degree[v] += 1\n",
    "        \n",
    "    def topological_sort(self):\n",
    "        queue = []\n",
    "        for i in range(self.num_vertices):\n",
    "            if self.in_degree[i] == 0:\n",
    "                queue.append(i)\n",
    "        \n",
    "        count = 0\n",
    "        while queue:\n",
    "            u = queue.pop(0)\n",
    "            self.visited[u] = True\n",
    "            count += 1\n",
    "            \n",
    "            for v in self.graph[u]:\n",
    "                self.in_degree[v] -= 1\n",
    "                if self.in_degree[v] == 0:\n",
    "                    queue.append(v)\n",
    "        \n",
    "        return count == self.num_vertices\n",
    "    \n",
    "num_vertices = int(input(\"Enter the number of vertices: \"))\n",
    "num_edges = int(input(\"Enter the number of edges: \"))\n",
    "\n",
    "g = Graph(num_vertices)\n",
    "\n",
    "for i in range(num_edges):\n",
    "    u, v = map(int, input(\"Enter edge {} (u, v): \".format(i+1)).split())\n",
    "    g.add_edge(u, v)\n",
    "\n",
    "if g.topological_sort():\n",
    "    print(\"The graph does not contain any cycle.\")\n",
    "else:\n",
    "    print(\"The graph contains a cycle.\")\n"
   ]
  },
  {
   "cell_type": "markdown",
   "id": "820d4db7",
   "metadata": {},
   "source": [
    "### Below question is a miscellaneous question"
   ]
  },
  {
   "cell_type": "markdown",
   "id": "839b6176",
   "metadata": {},
   "source": [
    "### **Implement n-Queen’s Problem"
   ]
  },
  {
   "cell_type": "code",
   "execution_count": 1,
   "id": "cc2e1616",
   "metadata": {},
   "outputs": [
    {
     "name": "stdout",
     "output_type": "stream",
     "text": [
      "Enter the size of the chessboard (n): 5\n",
      "All possible solutions for the n-Queen's problem are:\n",
      "1 0 0 0 0\n",
      "0 0 0 1 0\n",
      "0 1 0 0 0\n",
      "0 0 0 0 1\n",
      "0 0 1 0 0\n",
      "\n",
      "1 0 0 0 0\n",
      "0 0 1 0 0\n",
      "0 0 0 0 1\n",
      "0 1 0 0 0\n",
      "0 0 0 1 0\n",
      "\n",
      "0 0 1 0 0\n",
      "1 0 0 0 0\n",
      "0 0 0 1 0\n",
      "0 1 0 0 0\n",
      "0 0 0 0 1\n",
      "\n",
      "0 0 0 1 0\n",
      "1 0 0 0 0\n",
      "0 0 1 0 0\n",
      "0 0 0 0 1\n",
      "0 1 0 0 0\n",
      "\n",
      "0 1 0 0 0\n",
      "0 0 0 1 0\n",
      "1 0 0 0 0\n",
      "0 0 1 0 0\n",
      "0 0 0 0 1\n",
      "\n",
      "0 0 0 0 1\n",
      "0 0 1 0 0\n",
      "1 0 0 0 0\n",
      "0 0 0 1 0\n",
      "0 1 0 0 0\n",
      "\n",
      "0 1 0 0 0\n",
      "0 0 0 0 1\n",
      "0 0 1 0 0\n",
      "1 0 0 0 0\n",
      "0 0 0 1 0\n",
      "\n",
      "0 0 0 0 1\n",
      "0 1 0 0 0\n",
      "0 0 0 1 0\n",
      "1 0 0 0 0\n",
      "0 0 1 0 0\n",
      "\n",
      "0 0 0 1 0\n",
      "0 1 0 0 0\n",
      "0 0 0 0 1\n",
      "0 0 1 0 0\n",
      "1 0 0 0 0\n",
      "\n",
      "0 0 1 0 0\n",
      "0 0 0 0 1\n",
      "0 1 0 0 0\n",
      "0 0 0 1 0\n",
      "1 0 0 0 0\n",
      "\n"
     ]
    }
   ],
   "source": [
    "def is_safe(board, row, col, n):\n",
    "    # Check if the queen can be placed in this row and column\n",
    "    for i in range(col):\n",
    "        if board[row][i] == 1:\n",
    "            return False\n",
    "    \n",
    "    # Check for diagonal attacks from left and right\n",
    "    for i, j in zip(range(row, -1, -1), range(col, -1, -1)):\n",
    "        if board[i][j] == 1:\n",
    "            return False\n",
    "        \n",
    "    for i, j in zip(range(row, n, 1), range(col, -1, -1)):\n",
    "        if board[i][j] == 1:\n",
    "            return False\n",
    "    \n",
    "    return True\n",
    "\n",
    "def n_queens_helper(board, col, n, solutions):\n",
    "    if col == n:\n",
    "        solutions.append([row[:] for row in board])\n",
    "        return\n",
    "    \n",
    "    for row in range(n):\n",
    "        if is_safe(board, row, col, n):\n",
    "            board[row][col] = 1\n",
    "            n_queens_helper(board, col+1, n, solutions)\n",
    "            board[row][col] = 0\n",
    "\n",
    "def n_queens(n):\n",
    "    board = [[0 for i in range(n)] for j in range(n)]\n",
    "    solutions = []\n",
    "    n_queens_helper(board, 0, n, solutions)\n",
    "    return solutions\n",
    "\n",
    "n = int(input(\"Enter the size of the chessboard (n): \"))\n",
    "solutions = n_queens(n)\n",
    "\n",
    "print(\"All possible solutions for the n-Queen's problem are:\")\n",
    "for solution in solutions:\n",
    "    for row in solution:\n",
    "        print(\" \".join(str(x) for x in row))\n",
    "    print()\n"
   ]
  },
  {
   "cell_type": "code",
   "execution_count": null,
   "id": "fa712cc8",
   "metadata": {},
   "outputs": [],
   "source": []
  }
 ],
 "metadata": {
  "kernelspec": {
   "display_name": "Python 3 (ipykernel)",
   "language": "python",
   "name": "python3"
  },
  "language_info": {
   "codemirror_mode": {
    "name": "ipython",
    "version": 3
   },
   "file_extension": ".py",
   "mimetype": "text/x-python",
   "name": "python",
   "nbconvert_exporter": "python",
   "pygments_lexer": "ipython3",
   "version": "3.9.13"
  }
 },
 "nbformat": 4,
 "nbformat_minor": 5
}
