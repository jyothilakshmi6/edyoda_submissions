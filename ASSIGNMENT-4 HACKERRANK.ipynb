{
 "cells": [
  {
   "cell_type": "markdown",
   "id": "8b2ef7a9",
   "metadata": {},
   "source": [
    "### Classes: Dealing with Complex Numbers"
   ]
  },
  {
   "cell_type": "code",
   "execution_count": 1,
   "id": "a57beb9f",
   "metadata": {},
   "outputs": [
    {
     "name": "stdout",
     "output_type": "stream",
     "text": [
      "2 1\n",
      "5 6\n",
      "7.00+7.00i\n",
      "-3.00-5.00i\n",
      "4.00+17.00i\n",
      "0.26-0.11i\n",
      "2.24+0.00i\n",
      "7.81+0.00i\n"
     ]
    }
   ],
   "source": [
    "import math\n",
    "\n",
    "class Complex(object):\n",
    "    def __init__(self, real, imaginary):\n",
    "        self.re = real\n",
    "        self.im = imaginary\n",
    "    def __add__(self, no):\n",
    "        return Complex(self.re+no.re, self.im+no.im)\n",
    "        \n",
    "    def __sub__(self, no):\n",
    "        return Complex(self.re-no.re, self.im-no.im)\n",
    "    \n",
    "    def __mul__(self, no):\n",
    "        re_mul = self.re*no.re - self.im*no.im\n",
    "        im_mul = self.re*no.im + self.im*no.re\n",
    "        return Complex(re_mul,im_mul)\n",
    "    \n",
    "    def __truediv__(self, no):\n",
    "        denominator = no.re**2 + no.im**2\n",
    "        re_truediv = (self.re*no.re + self.im*no.im)/denominator\n",
    "        im_truediv = (self.im*no.re - self.re*no.im)/denominator\n",
    "        return Complex(re_truediv,im_truediv)\n",
    "    \n",
    "    def mod(self):\n",
    "        return Complex(math.sqrt(self.re**2 + self.im**2), 0)\n",
    "    \n",
    "    def __str__(self):\n",
    "        if self.im == 0:\n",
    "            result = \"%.2f+0.00i\" % (self.re)\n",
    "        elif self.re == 0:\n",
    "            if self.im >= 0:\n",
    "                result = \"0.00+%.2fi\" % (self.im)\n",
    "            else:\n",
    "                result = \"0.00-%.2fi\" % (abs(self.im))\n",
    "        elif self.im > 0:\n",
    "            result = \"%.2f+%.2fi\" % (self.re, self.im)\n",
    "        else:\n",
    "            result = \"%.2f-%.2fi\" % (self.re, abs(self.im))\n",
    "        return result\n",
    "if __name__ == '__main__':\n",
    "    c = map(float, input().split())\n",
    "    d = map(float, input().split())\n",
    "    x = Complex(*c)\n",
    "    y = Complex(*d)\n",
    "    print(*map(str, [x+y, x-y, x*y, x/y, x.mod(), y.mod()]), sep='\\n')"
   ]
  },
  {
   "cell_type": "markdown",
   "id": "1ebf5d86",
   "metadata": {},
   "source": [
    "### Class 2 - Find the Torsional Angle\n",
    "\n"
   ]
  },
  {
   "cell_type": "code",
   "execution_count": 2,
   "id": "33d85e42",
   "metadata": {},
   "outputs": [
    {
     "name": "stdout",
     "output_type": "stream",
     "text": [
      "0 4 5\n",
      "1 7 6\n",
      "0 5 9\n",
      "1 7 2\n",
      "8.19\n"
     ]
    }
   ],
   "source": [
    "import math\n",
    "\n",
    "\n",
    "from math import sqrt\n",
    "\n",
    "\n",
    "class Points(object):\n",
    "    def __init__(self, x, y, z):\n",
    "        self.x = x\n",
    "        self.y = y\n",
    "        self.z = z\n",
    "\n",
    "    def __sub__(self, no):\n",
    "        return Points(self.x - no.x,\n",
    "                      self.y - no.y,\n",
    "                      self.z - no.z)\n",
    "\n",
    "    def dot(self, no):\n",
    "        return self.x * no.x + self.y * no.y + self.z * no.z\n",
    "\n",
    "    def cross(self, no):\n",
    "        return Points(self.y * no.z - self.z * no.y,\n",
    "                      self.z * no.x - self.x * no.z,\n",
    "                      self.x * no.y - self.y * no.x)\n",
    "\n",
    "    def absolute(self):\n",
    "        return sqrt((self.x ** 2 + self.y ** 2 + self.z ** 2))\n",
    "if __name__ == '__main__':\n",
    "    points = list()\n",
    "    for i in range(4):\n",
    "        a = list(map(float, input().split()))\n",
    "        points.append(a)\n",
    "\n",
    "    a, b, c, d = Points(*points[0]), Points(*points[1]), Points(*points[2]), Points(*points[3])\n",
    "    x = (b - a).cross(c - b)\n",
    "    y = (c - b).cross(d - c)\n",
    "    angle = math.acos(x.dot(y) / (x.absolute() * y.absolute()))\n",
    "\n",
    "    print(\"%.2f\" % math.degrees(angle))"
   ]
  },
  {
   "cell_type": "code",
   "execution_count": null,
   "id": "85bd4372",
   "metadata": {},
   "outputs": [],
   "source": []
  }
 ],
 "metadata": {
  "kernelspec": {
   "display_name": "Python 3 (ipykernel)",
   "language": "python",
   "name": "python3"
  },
  "language_info": {
   "codemirror_mode": {
    "name": "ipython",
    "version": 3
   },
   "file_extension": ".py",
   "mimetype": "text/x-python",
   "name": "python",
   "nbconvert_exporter": "python",
   "pygments_lexer": "ipython3",
   "version": "3.9.13"
  }
 },
 "nbformat": 4,
 "nbformat_minor": 5
}
