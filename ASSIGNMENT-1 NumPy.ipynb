{
 "cells": [
  {
   "cell_type": "markdown",
   "id": "01af7c01",
   "metadata": {},
   "source": [
    "### 1. Create a null vector of size 10 but the fifth value which is 1."
   ]
  },
  {
   "cell_type": "code",
   "execution_count": 1,
   "id": "7ee9b41b",
   "metadata": {},
   "outputs": [
    {
     "name": "stdout",
     "output_type": "stream",
     "text": [
      "[0. 0. 0. 0. 1. 0. 0. 0. 0. 0.]\n"
     ]
    }
   ],
   "source": [
    "import numpy as np\n",
    "\n",
    "# create null vector of size 10\n",
    "null_vector = np.zeros(10)\n",
    "\n",
    "# set the fifth value to 1\n",
    "null_vector[4] = 1\n",
    "\n",
    "print(null_vector)\n"
   ]
  },
  {
   "cell_type": "markdown",
   "id": "65f3c076",
   "metadata": {},
   "source": [
    "### 2. Create a vector with values ranging from 10 to 49."
   ]
  },
  {
   "cell_type": "code",
   "execution_count": 2,
   "id": "4199a2c8",
   "metadata": {},
   "outputs": [
    {
     "name": "stdout",
     "output_type": "stream",
     "text": [
      "[10 11 12 13 14 15 16 17 18 19 20 21 22 23 24 25 26 27 28 29 30 31 32 33\n",
      " 34 35 36 37 38 39 40 41 42 43 44 45 46 47 48 49]\n"
     ]
    }
   ],
   "source": [
    "import numpy as np\n",
    "\n",
    "# create a vector with values ranging from 10 to 49\n",
    "my_vector = np.arange(10, 50)\n",
    "\n",
    "print(my_vector)\n"
   ]
  },
  {
   "cell_type": "markdown",
   "id": "a0642c91",
   "metadata": {},
   "source": [
    "### 3. Create a 3x3 matrix with values ranging from 0 to 8"
   ]
  },
  {
   "cell_type": "code",
   "execution_count": 3,
   "id": "ac57c734",
   "metadata": {},
   "outputs": [
    {
     "name": "stdout",
     "output_type": "stream",
     "text": [
      "[[0 1 2]\n",
      " [3 4 5]\n",
      " [6 7 8]]\n"
     ]
    }
   ],
   "source": [
    "import numpy as np\n",
    "\n",
    "# create a 3x3 matrix with values ranging from 0 to 8\n",
    "my_matrix = np.arange(9).reshape(3, 3)\n",
    "\n",
    "print(my_matrix)\n"
   ]
  },
  {
   "cell_type": "markdown",
   "id": "5ba024ac",
   "metadata": {},
   "source": [
    "### 4. Find indices of non-zero elements from [1,2,0,0,4,0]"
   ]
  },
  {
   "cell_type": "code",
   "execution_count": 8,
   "id": "ab9d066a",
   "metadata": {},
   "outputs": [
    {
     "name": "stdout",
     "output_type": "stream",
     "text": [
      "(array([0, 1, 4], dtype=int64),)\n"
     ]
    }
   ],
   "source": [
    "import numpy as np\n",
    "\n",
    "# create the input array\n",
    "my_array = np.array([1, 2, 0, 0, 4, 0])\n",
    "\n",
    "# find the indices of non-zero elements\n",
    "nonzero_indices = np.nonzero(my_array)\n",
    "\n",
    "print(nonzero_indices)\n"
   ]
  },
  {
   "cell_type": "markdown",
   "id": "9041b67f",
   "metadata": {},
   "source": [
    "### 5. Create a 10x10 array with random values and find the minimum and maximum values."
   ]
  },
  {
   "cell_type": "code",
   "execution_count": 9,
   "id": "f92fc88b",
   "metadata": {},
   "outputs": [
    {
     "name": "stdout",
     "output_type": "stream",
     "text": [
      "Minimum value: 0.014207284964959488\n",
      "Maximum value: 0.9850071515068444\n"
     ]
    }
   ],
   "source": [
    "import numpy as np\n",
    "\n",
    "# create a 10x10 array with random values\n",
    "my_array = np.random.rand(10, 10)\n",
    "\n",
    "# find the minimum and maximum values\n",
    "min_value = my_array.min()\n",
    "max_value = my_array.max()\n",
    "\n",
    "print(\"Minimum value:\", min_value)\n",
    "print(\"Maximum value:\", max_value)\n"
   ]
  },
  {
   "cell_type": "markdown",
   "id": "8882a0e5",
   "metadata": {},
   "source": [
    "### 6. Create a random vector of size 30 and find the mean value.\n"
   ]
  },
  {
   "cell_type": "code",
   "execution_count": 10,
   "id": "686d762a",
   "metadata": {},
   "outputs": [
    {
     "name": "stdout",
     "output_type": "stream",
     "text": [
      "Mean value: 0.5020821848012323\n"
     ]
    }
   ],
   "source": [
    "import numpy as np\n",
    "\n",
    "# create a random vector of size 30\n",
    "my_vector = np.random.rand(30)\n",
    "\n",
    "# find the mean value\n",
    "mean_value = np.mean(my_vector)\n",
    "\n",
    "print(\"Mean value:\", mean_value)\n"
   ]
  },
  {
   "cell_type": "code",
   "execution_count": null,
   "id": "48b478a5",
   "metadata": {},
   "outputs": [],
   "source": []
  }
 ],
 "metadata": {
  "kernelspec": {
   "display_name": "Python 3 (ipykernel)",
   "language": "python",
   "name": "python3"
  },
  "language_info": {
   "codemirror_mode": {
    "name": "ipython",
    "version": 3
   },
   "file_extension": ".py",
   "mimetype": "text/x-python",
   "name": "python",
   "nbconvert_exporter": "python",
   "pygments_lexer": "ipython3",
   "version": "3.9.13"
  }
 },
 "nbformat": 4,
 "nbformat_minor": 5
}
