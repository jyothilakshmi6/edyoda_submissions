{
 "cells": [
  {
   "cell_type": "markdown",
   "id": "7df3dc97",
   "metadata": {},
   "source": [
    "### itertools.combinations()"
   ]
  },
  {
   "cell_type": "code",
   "execution_count": 1,
   "id": "6b618a95",
   "metadata": {},
   "outputs": [
    {
     "name": "stdout",
     "output_type": "stream",
     "text": [
      "HACK 2\n",
      "A\n",
      "C\n",
      "H\n",
      "K\n",
      "AC\n",
      "AH\n",
      "AK\n",
      "CH\n",
      "CK\n",
      "HK\n"
     ]
    }
   ],
   "source": [
    "\n",
    "from itertools import combinations\n",
    "inp = input().split()\n",
    "ls=[]\n",
    "for i in range(1,int(inp[1])+1):   \n",
    "    com = list(combinations(sorted(str(inp[0])),i))\n",
    "    for j in com:\n",
    "        ls.append(''.join(list(j)))    \n",
    "    for a in sorted(ls):\n",
    "        print(a.upper())\n",
    "    ls.clear()"
   ]
  },
  {
   "cell_type": "markdown",
   "id": "e41bb1a0",
   "metadata": {},
   "source": [
    "### itertools.product()\n",
    "\n"
   ]
  },
  {
   "cell_type": "code",
   "execution_count": 2,
   "id": "20bb678b",
   "metadata": {},
   "outputs": [
    {
     "name": "stdout",
     "output_type": "stream",
     "text": [
      "1 2\n",
      "3 4\n",
      "(1, 3) (1, 4) (2, 3) (2, 4)\n"
     ]
    }
   ],
   "source": [
    "\n",
    "from itertools import product\n",
    "s1 = (input()).split()\n",
    "s2 = (input()).split()\n",
    "x1 = list(map(int, s1))\n",
    "x2 = list(map(int, s2))\n",
    "\n",
    "print(*product(x1, x2))"
   ]
  },
  {
   "cell_type": "markdown",
   "id": "3df525b5",
   "metadata": {},
   "source": [
    "### itertools.permutations()\n",
    "\n"
   ]
  },
  {
   "cell_type": "code",
   "execution_count": 3,
   "id": "0c689550",
   "metadata": {},
   "outputs": [
    {
     "name": "stdout",
     "output_type": "stream",
     "text": [
      "HACK 2\n",
      "AC\n",
      "AH\n",
      "AK\n",
      "CA\n",
      "CH\n",
      "CK\n",
      "HA\n",
      "HC\n",
      "HK\n",
      "KA\n",
      "KC\n",
      "KH\n"
     ]
    }
   ],
   "source": [
    "from itertools import permutations\n",
    "data= input().split()\n",
    "ls=[]\n",
    "for i in list(permutations(data[0],int(data[1]))):\n",
    "    ls.append(''.join(list(i)))\n",
    "ls.sort()\n",
    "for j in ls:\n",
    "    print(j)\n",
    "    "
   ]
  },
  {
   "cell_type": "code",
   "execution_count": null,
   "id": "084996cc",
   "metadata": {},
   "outputs": [],
   "source": []
  }
 ],
 "metadata": {
  "kernelspec": {
   "display_name": "Python 3 (ipykernel)",
   "language": "python",
   "name": "python3"
  },
  "language_info": {
   "codemirror_mode": {
    "name": "ipython",
    "version": 3
   },
   "file_extension": ".py",
   "mimetype": "text/x-python",
   "name": "python",
   "nbconvert_exporter": "python",
   "pygments_lexer": "ipython3",
   "version": "3.9.13"
  }
 },
 "nbformat": 4,
 "nbformat_minor": 5
}
