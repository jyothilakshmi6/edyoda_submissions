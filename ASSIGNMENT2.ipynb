{
 "cells": [
  {
   "cell_type": "markdown",
   "id": "f6ee6bda",
   "metadata": {},
   "source": [
    "## Write a Python program to get a list, sorted in increasing order by the last element in each tuple from a given list of non-empty tuples"
   ]
  },
  {
   "cell_type": "code",
   "execution_count": 4,
   "id": "8b36ed1c",
   "metadata": {},
   "outputs": [
    {
     "name": "stdout",
     "output_type": "stream",
     "text": [
      "Enter the list of tuples: [(1,2,3),(2,1,0),(2,3,1)]\n",
      "[(2, 1, 0), (2, 3, 1), (1, 2, 3)]\n"
     ]
    }
   ],
   "source": [
    "import ast\n",
    "lst = ast.literal_eval(input(\"Enter the list of tuples: \"))\n",
    "print(sorted(lst,key=lambda x:x[-1]))"
   ]
  },
  {
   "cell_type": "markdown",
   "id": "a064351b",
   "metadata": {},
   "source": [
    "## Write a python program to print a dictionary whose keys should be the alphabet from a-z and the value should be corresponding ASCII values"
   ]
  },
  {
   "cell_type": "code",
   "execution_count": 5,
   "id": "ec2a824a",
   "metadata": {},
   "outputs": [
    {
     "name": "stdout",
     "output_type": "stream",
     "text": [
      "{'a': 97, 'b': 98, 'c': 99, 'd': 100, 'e': 101, 'f': 102, 'g': 103, 'h': 104, 'i': 105, 'j': 106, 'k': 107, 'l': 108, 'm': 109, 'n': 110, 'o': 111, 'p': 112, 'q': 113, 'r': 114, 's': 115, 't': 116, 'u': 117, 'v': 118, 'w': 119, 'x': 120, 'y': 121, 'z': 122}\n"
     ]
    }
   ],
   "source": [
    "alphabet_dict = {}\n",
    "for i in range(97, 123): # ASCII values for 'a' to 'z' are 97 to 122\n",
    "    alphabet_dict[chr(i)] = i\n",
    "print(alphabet_dict)"
   ]
  },
  {
   "cell_type": "code",
   "execution_count": 7,
   "id": "6d88037c",
   "metadata": {},
   "outputs": [
    {
     "name": "stdout",
     "output_type": "stream",
     "text": [
      "Enter an alphabet: a\n"
     ]
    },
    {
     "data": {
      "text/plain": [
       "{'a': 97}"
      ]
     },
     "execution_count": 7,
     "metadata": {},
     "output_type": "execute_result"
    }
   ],
   "source": [
    "inp = input('Enter an alphabet: ')\n",
    "alphabet_dict = {}\n",
    "alphabet_dict[inp] = ord(inp)\n",
    "alphabet_dict"
   ]
  },
  {
   "cell_type": "code",
   "execution_count": null,
   "id": "07a9d716",
   "metadata": {},
   "outputs": [],
   "source": []
  }
 ],
 "metadata": {
  "kernelspec": {
   "display_name": "Python 3 (ipykernel)",
   "language": "python",
   "name": "python3"
  },
  "language_info": {
   "codemirror_mode": {
    "name": "ipython",
    "version": 3
   },
   "file_extension": ".py",
   "mimetype": "text/x-python",
   "name": "python",
   "nbconvert_exporter": "python",
   "pygments_lexer": "ipython3",
   "version": "3.9.13"
  }
 },
 "nbformat": 4,
 "nbformat_minor": 5
}
